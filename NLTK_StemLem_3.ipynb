{
  "nbformat": 4,
  "nbformat_minor": 0,
  "metadata": {
    "colab": {
      "provenance": [],
      "include_colab_link": true
    },
    "kernelspec": {
      "name": "python3",
      "display_name": "Python 3"
    },
    "language_info": {
      "name": "python"
    }
  },
  "cells": [
    {
      "cell_type": "markdown",
      "metadata": {
        "id": "view-in-github",
        "colab_type": "text"
      },
      "source": [
        "<a href=\"https://colab.research.google.com/github/shubhamrana238/NLP/blob/main/NLTK_StemLem_3.ipynb\" target=\"_parent\"><img src=\"https://colab.research.google.com/assets/colab-badge.svg\" alt=\"Open In Colab\"/></a>"
      ]
    },
    {
      "cell_type": "code",
      "execution_count": 1,
      "metadata": {
        "id": "PheMLg9ltICj",
        "colab": {
          "base_uri": "https://localhost:8080/"
        },
        "outputId": "92a16825-d5a4-471c-8252-a3b1b52d2857"
      },
      "outputs": [
        {
          "output_type": "stream",
          "name": "stdout",
          "text": [
            "Collecting python-docx\n",
            "  Downloading python_docx-1.1.2-py3-none-any.whl.metadata (2.0 kB)\n",
            "Requirement already satisfied: nltk in /usr/local/lib/python3.10/dist-packages (3.8.1)\n",
            "Requirement already satisfied: lxml>=3.1.0 in /usr/local/lib/python3.10/dist-packages (from python-docx) (4.9.4)\n",
            "Requirement already satisfied: typing-extensions>=4.9.0 in /usr/local/lib/python3.10/dist-packages (from python-docx) (4.12.2)\n",
            "Requirement already satisfied: click in /usr/local/lib/python3.10/dist-packages (from nltk) (8.1.7)\n",
            "Requirement already satisfied: joblib in /usr/local/lib/python3.10/dist-packages (from nltk) (1.4.2)\n",
            "Requirement already satisfied: regex>=2021.8.3 in /usr/local/lib/python3.10/dist-packages (from nltk) (2024.5.15)\n",
            "Requirement already satisfied: tqdm in /usr/local/lib/python3.10/dist-packages (from nltk) (4.66.5)\n",
            "Downloading python_docx-1.1.2-py3-none-any.whl (244 kB)\n",
            "\u001b[2K   \u001b[90m━━━━━━━━━━━━━━━━━━━━━━━━━━━━━━━━━━━━━━━━\u001b[0m \u001b[32m244.3/244.3 kB\u001b[0m \u001b[31m2.9 MB/s\u001b[0m eta \u001b[36m0:00:00\u001b[0m\n",
            "\u001b[?25hInstalling collected packages: python-docx\n",
            "Successfully installed python-docx-1.1.2\n"
          ]
        }
      ],
      "source": [
        "!pip install python-docx nltk"
      ]
    },
    {
      "cell_type": "code",
      "source": [
        "import docx\n",
        "import nltk\n",
        "from nltk.corpus import stopwords\n",
        "nltk.download('punkt')\n",
        "nltk.download('stopwords')\n",
        "from nltk.tokenize import word_tokenize\n",
        "nltk.download('averaged_perceptron_tagger')"
      ],
      "metadata": {
        "id": "Xe76dwDguswX",
        "colab": {
          "base_uri": "https://localhost:8080/"
        },
        "outputId": "094a4216-910e-4721-b34e-364a00746917"
      },
      "execution_count": 2,
      "outputs": [
        {
          "output_type": "stream",
          "name": "stderr",
          "text": [
            "[nltk_data] Downloading package punkt to /root/nltk_data...\n",
            "[nltk_data]   Unzipping tokenizers/punkt.zip.\n",
            "[nltk_data] Downloading package stopwords to /root/nltk_data...\n",
            "[nltk_data]   Unzipping corpora/stopwords.zip.\n",
            "[nltk_data] Downloading package averaged_perceptron_tagger to\n",
            "[nltk_data]     /root/nltk_data...\n",
            "[nltk_data]   Unzipping taggers/averaged_perceptron_tagger.zip.\n"
          ]
        },
        {
          "output_type": "execute_result",
          "data": {
            "text/plain": [
              "True"
            ]
          },
          "metadata": {},
          "execution_count": 2
        }
      ]
    },
    {
      "cell_type": "markdown",
      "source": [
        "#Stemming & Lemmatization"
      ],
      "metadata": {
        "id": "muVk0Ivn4Skm"
      }
    },
    {
      "cell_type": "code",
      "source": [
        "nltk.download('wordnet')\n",
        "from nltk.stem import PorterStemmer, WordNetLemmatizer"
      ],
      "metadata": {
        "colab": {
          "base_uri": "https://localhost:8080/"
        },
        "id": "Egov0b_6wAQT",
        "outputId": "61c95a65-6c6b-4d45-8c4b-b219312f5407"
      },
      "execution_count": 3,
      "outputs": [
        {
          "output_type": "stream",
          "name": "stderr",
          "text": [
            "[nltk_data] Downloading package wordnet to /root/nltk_data...\n"
          ]
        }
      ]
    },
    {
      "cell_type": "code",
      "source": [
        "doc = docx.Document('/content/text-to-word.docx')\n",
        "\n",
        "sentences = []\n",
        "for paragraph in doc.paragraphs:\n",
        "  sentences.append(paragraph.text)\n",
        "\n",
        "stemmer = PorterStemmer()\n",
        "\n",
        "lemmatizer = WordNetLemmatizer()\n",
        "\n",
        "stemmed_sentences = []\n",
        "for sentence in sentences:\n",
        "  stemmed_sentence = []\n",
        "  for word in sentence.split():\n",
        "    stemmed_word = stemmer.stem(word)\n",
        "    stemmed_sentence.append(stemmed_word)\n",
        "  stemmed_sentences.append(' '.join(stemmed_sentence))\n",
        "\n",
        "lemmatized_sentences = []\n",
        "for sentence in sentences:\n",
        "  lemmatized_sentence = []\n",
        "  for word in sentence.split():\n",
        "    lemmatized_word = lemmatizer.lemmatize(word)\n",
        "    lemmatized_sentence.append(lemmatized_word)\n",
        "  lemmatized_sentences.append(' '.join(lemmatized_sentence))"
      ],
      "metadata": {
        "id": "lEmMsObewwtd"
      },
      "execution_count": 4,
      "outputs": []
    },
    {
      "cell_type": "code",
      "source": [
        "print('Stemmed sentences:')\n",
        "print(stemmed_sentences)"
      ],
      "metadata": {
        "colab": {
          "base_uri": "https://localhost:8080/"
        },
        "id": "hA2_Kx9m1YBN",
        "outputId": "5e71ad66-410b-4d53-b531-ad3009058894"
      },
      "execution_count": 5,
      "outputs": [
        {
          "output_type": "stream",
          "name": "stdout",
          "text": [
            "Stemmed sentences:\n",
            "['high up, crown the grassi summit of a swell mount whose side are wood near the base with the gnarl tree of the primev forest stand the old chateau of my ancestors. for centuri it lofti battlement have frown down upon the wild and rug countrysid about, serv as a home and stronghold for the proud hous whose honor line is older even than the moss-grown castl walls. these ancient turrets, stain by the storm of gener and crumbl under the slow yet mighti pressur of time, form in the age of feudal one of the most dread and formid fortress in all france. from it machicol parapet and mount battlement barons, counts, and even king had been defied, yet never had it spaciou hall resound to the footstep of the invader.', 'but sinc those gloriou years, all is changed. a poverti but littl abov the level of dire want, togeth with a pride of name that forbid it allevi by the pursuit of commerci life, have prevent the scion of our line from maintain their estat in pristin splendour; and the fall stone of the walls, the overgrown veget in the parks, the dri and dusti moat, the ill- pave courtyards, and toppl tower without, as well as the sag floors, the worm-eaten wainscots, and the fade tapestri within, all tell a gloomi tale of fallen grandeur. as the age passed, first one, then anoth of the four great turret were left to ruin, until at last but a singl tower hous the sadli reduc descend of the onc mighti lord of the estate.', 'it wa in one of the vast and gloomi chamber of thi remain tower that i, antoine, last of the unhappi and accurs count de c-, first saw the light of day, nineti long year ago. within these wall and amongst the dark and shadowi forests, the wild ravin and grotto of the hillsid below, were spent the first year of my troubl life. my parent i never knew. my father had been kill at the age of thirty-two, a month befor i wa born, by the fall of a stone somehow dislodg from one of the desert parapet of the castle. and my mother have die at my birth, my care and educ devolv sole upon one remain servitor, an old and trust man of consider intelligence, whose name i rememb as pierre. i wa an onli child and the lack of companionship which thi fact entail upon me wa augment by the strang care exercis by my age guardian, in exclud me from the societi of the peasant children whose abod were scatter here and there upon the plain that surround the base of the hill. at that time, pierr said that thi restrict wa impos upon me becaus my nobl birth place me abov associ with such plebeian company. now i know that it real object wa to keep from my ear the idl tale of the dread curs upon our line that were nightli told and magnifi by the simpl tenantri as they convers in hush accent in the glow of their cottag hearths.', 'thu isolated, and thrown upon my own resources, i spent the hour of my childhood in pore over the ancient tome that fill the shadow haunt librari of the chateau, and in roam without aim or purpos through the perpetu dust of the spectral wood that cloth the side of the hill near it foot. it wa perhap an effect of such surround that my mind earli acquir a shade of melancholy. those studi and pursuit which partak of the dark and occult in natur most strongli claim my attention.', 'of my own race i wa permit to learn singularli little, yet what small knowledg of it i wa abl to gain seem to depress me much. perhap it wa at first onli the manifest reluct of my old preceptor to discuss with me my patern ancestri that gave rise to the terror which i ever felt at the mention of my great house, yet as i grew out of childhood, i wa abl to piec togeth disconnect fragment of discourse, let slip from the unwil tongu which had begun to falter in approach senility, that had a sort of relat to a certain circumst which i had alway deem strange, but which now becam dimli terrible. the circumst to which i allud is the earli age at which all the count of my line had met their end. whilst i had hitherto consid thi but a natur attribut of a famili of short-liv men, i afterward ponder long upon these prematur deaths, and began to connect them with the wander of the old man, who often spoke of a curs which for centuri had prevent the live of the holder of my titl from much exceed the span of thirty-two years. upon my twenty-first birthday, the age pierr gave to me a famili document which he said had for mani gener been hand down from father to son, and continu by each possessor. it content were of the most startl nature, and it perus confirm the gravest of my apprehensions. at thi time, my belief in the supernatur wa firm and deep-seated, els i should have dismiss with scorn the incred narr unfold befor my eyes.', \"the paper carri me back to the day of the thirteenth century, when the old castl in which i sat had been a fear and impregn fortress. it told of a certain ancient man who had onc dwell on our estates, a person of no small accomplishments, though littl abov the rank of peasant, by name, michel, usual design by the surnam of mauvais, the evil, on account of hi sinist reputation. he had studi beyond the custom of hi kind, seek such thing as the philosopher' stone or the elixir of etern life, and wa reput wise in the terribl secret of black magic and alchemy. michel mauvai had one son, name charles, a youth as profici as himself in the hidden arts, who had therefor been call le sorcier, or the wizard. thi pair, shun by all honest folk, were suspect of the most hideou practices. old michel wa said to have burnt hi wife aliv as a sacrific to the devil, and the unaccount disappear of mani small peasant children wa laid at the dread door of these two. yet through the dark natur of the father and son ran one redeem ray of humanity; the evil old man love hi offspr with fierc intensity, whilst the youth had for hi parent a more than filial affection.\", \"one night the castl on the hill wa thrown into the wildest confus by the vanish of young godfrey, son to henri, the count. a search party, head by the frantic father, invad the cottag of the sorcer and there came upon old michel mauvais, busi over a huge and violent boil cauldron. without certain cause, in the ungovern mad of furi and despair, the count laid hand on the age wizard, and ere he releas hi murder hold, hi victim wa no more. meanwhile, joy servant were proclaim the find of young godfrey in a distant and unus chamber of the great edifice, tell too late that poor michel had been kill in vain. as the count and hi associ turn away from the lowli abod of the alchemist, the form of charl le sorcier appear through the trees. the excit chatter of the menial stand about told him what had occurred, yet he seem at first unmov at hi father' fate. then, slowli advanc to meet the count, he pronounc in dull yet terribl accent the curs that ever afterward haunt the hous of c-.\", '', \"'may ne'er a nobl of thi murd'rou line surviv to reach a greater age than thine!' spake he, when, suddenli leap backward into the black woods, he drew from hi tunic a phial of colourless liquid which he threw into the face of hi father' slayer as he disappear behind the inki curtain of the night. the count die without utterance, and wa buri the next day, but littl more than two and thirti year from the hour of hi birth. no trace of the assassin could be found, though relentless band of peasant scour the neighbor wood and the meadowland around the hill.\", \"thu time and the want of a remind dull the memori of the curs in the mind of the late count' family, so that when godfrey, innoc caus of the whole tragedi and now bear the title, wa kill by an arrow whilst hunt at the age of thirty-two, there were no thought save those of grief at hi demise. but when, year afterward, the next young count, robert by name, wa found dead in a nearbi field of no appar cause, the peasant told in whisper that their seigneur had but late pass hi thirty-second birthday when surpris by earli death. louis, son to robert, wa found drown in the moat at the same fate age, and thu down through the centuri ran the omin chronicle: henris, roberts, antoines, and armand snatch from happi and virtuou live when littl below the age of their unfortun ancestor at hi murder.\", 'that i had left at most but eleven year of further exist wa made certain to me by the word which i had read. my life, previous held at small value, now becam dearer to me each day, as i delv deeper and deeper into the mysteri of the hidden world of black magic. isol as i was, modern scienc had produc no impress upon me, and i labour as in the middl ages, as wrapt as had been old michel and young charl themselv in the acquisit of demonolog and alchem learning. yet read as i might, in no manner could i account for the strang curs upon my line. in unusu ration moment i would even go so far as to seek a natur explanation, attribut the earli death of my ancestor to the sinist charl le sorcier and hi heirs; yet, have found upon care inquiri that there were no known descend of the alchemist, i would fall back to occult studies, and onc more endeavor to find a spell, that would releas my hous from it terribl burden. upon one thing i wa absolut resolved. i should never wed, for, sinc no other branch of my famili wa in existence, i might thu end the curs with myself.', 'as i drew near the age of thirty, old pierr wa call to the land beyond. alon i buri him beneath the stone of the courtyard about which he had love to wander in life. thu wa i left to ponder on myself as the onli human creatur within the great fortress, and in my utter solitud my mind began to ceas it vain protest against the impend doom, to becom almost reconcil to the fate which so mani of my ancestor had met. much of my time wa now occupi in the explor of the ruin and abandon hall and tower of the old chateau, which in youth fear had caus me to shun, and some of which old pierr had onc told me had not been trodden by human foot for over four centuries. strang and awesom were mani of the object i encountered. furniture, cover by the dust of age and crumbl with the rot of long dampness, met my eyes. cobweb in a profus never befor seen by me were spun everywhere, and huge bat flap their boni and uncanni wing on all side of the otherwis unten gloom.', 'of my exact age, even down to day and hours, i kept a most care record, for each movement of the pendulum of the massiv clock in the librari told off so much of my doom existence. at length i approach that time which i had so long view with apprehension. sinc most of my ancestor had been seiz some littl while befor they reach the exact age of count henri at hi end, i wa everi moment on the watch for the come of the unknown death. in what strang form the curs should overtak me, i knew not; but i wa resolv at least that it should not find me a cowardli or a passiv victim. with new vigour i appli myself to my examin of the old chateau and it contents.', 'it wa upon one of the longest of all my excurs of discoveri in the desert portion of the castle, less than a week befor that fatal hour which i felt must mark the utmost limit of my stay on earth, beyond which i could have not even the slightest hope of continu to draw breath that i came upon the culmin event of my whole life. i had spent the better part of the morn in climb up and down half ruin staircas in one of the most dilapid of the ancient turrets. as the afternoon progressed, i sought the lower levels, descend into what appear to be either a mediaev place of confinement, or a more recent excav storehous for gunpowder. as i slowli travers the nitre-encrust passageway at the foot of the last staircase, the pave becam veri damp, and soon i saw by the light of my flicker torch that a blank, water-stain wall imped my journey. turn to retrac my steps, my eye fell upon a small trapdoor with a ring, which lay directli beneath my foot. pausing, i succeed with difficulti in rais it, whereupon there wa reveal a black aperture, exhal noxiou fume which caus my torch to sputter, and disclos in the unsteadi glare the top of a flight of stone steps.', 'as soon as the torch which i lower into the repel depth burn freeli and steadily, i commenc my descent. the step were many, and led to a narrow stone-flag passag which i knew must be far underground. thi passag prove of great length, and termin in a massiv oaken door, drip with the moistur of the place, and stoutli resist all my attempt to open it. ceas after a time my effort in thi direction, i had proceed back some distanc toward the step when there suddenli fell to my experi one of the most profound and madden shock capabl of recept by the human mind. without warning, i heard the heavi door behind me creak slowli open upon it rust hinges. my immedi sensat were incap of analysis. to be confront in a place as thoroughli desert as i had deem the old castl with evid of the presenc of man or spirit produc in my brain a horror of the most acut description. when at last i turn and face the seat of the sound, my eye must have start from their orbit at the sight that they beheld.', 'there in the ancient gothic doorway stood a human figure. it wa that of a man clad in a skull-cap and long mediaev tunic of dark colour. hi long hair and flow beard were of a terribl and intens black hue, and of incred profusion. hi forehead, high beyond the usual dimensions; hi cheeks, deep- sunken and heavili line with wrinkles; and hi hands, long, claw-like, and gnarled, were of such a deadli marble-lik white as i have never elsewher seen in man. hi figure, lean to the proport of a skeleton, wa strang bent and almost lost within the volumin fold of hi peculiar garment. but strangest of all were hi eyes, twin cave of abysm blackness, profound in express of understanding, yet inhuman in degre of wickedness. these were now fix upon me, pierc my soul with their hatred, and root me to the spot whereon i stood.', \"at last the figur spoke in a rumbl voic that chill me through with it dull hollow and latent malevolence. the languag in which the discours wa cloth wa that debas form of latin in use amongst the more learn men of the middl ages, and made familiar to me by my prolong research into the work of the old alchemist and demonologists. the apparit spoke of the curs which had hover over my house, told me of my come end, dwelt on the wrong perpetr by my ancestor against old michel mauvais, and gloat over the reveng of charl le sorcier. he told how young charl ha escap into the night, return in after year to kill godfrey the heir with an arrow just as he approach the age which had been hi father' at hi assassination; how he had secretli return to the estat and establish himself, unknown, in the even then desert subterranean chamber whose doorway now frame the hideou narrator, how he had seiz robert, son of godfrey, in a field, forc poison down hi throat, and left him to die at the age of thirty-two, thu mainta the foul provis of hi veng curse. at thi point i wa left to imagin the solut of the greatest mysteri of all, how the curs had been fulfil sinc that time when charl le sorcier must in the cours of natur have died, for the man digress into an account of the deep alchem studi of the two wizards, father and son, speak most particularli of the research of charl le sorcier concern the elixir which should grant to him who partook of it etern life and youth.\", 'hi enthusiasm had seem for the moment to remov from hi terribl eye the black malevol that had first so haunt me, but suddenli the fiendish glare return and, with a shock sound like the hiss of a serpent, the stranger rais a glass phial with the evid intent of end my life as had charl le sorcier, six hundr year before, end that of my ancestor. prompt by some preserv instinct of self-defense, i broke through the spell that had hitherto held me immovable, and flung my now die torch at the creatur who menac my existence. i heard the phial break harmlessli against the stone of the passag as the tunic of the strang man caught fire and lit the horrid scene with a ghastli radiance. the shriek of fright and impot malic emit by the would- be assassin prove too much for my alreadi shaken nerves, and i fell prone upon the slimi floor in a total faint.', 'when at last my sens returned, all wa fright dark, and my mind, rememb what had occurred, shrank from the idea of behold ani more; yet curios over-mast all. who, i ask myself, wa thi man of evil, and how came he within the castl walls? whi should he seek to aveng the death of michel mauvais, and how bad the curs been carri on through all the long centuri sinc the time of charl le sorcier? the dread of year wa lift from my shoulder, for i knew that he whom i had fell wa the sourc of all my danger from the curse; and now that i wa free, i burn with the desir to learn more of the sinist thing which had haunt my line for centuries, and made of my own youth one long-continu nightmare. determin upon further exploration, i felt in my pocket for flint and steel, and lit the unus torch which i had with me.', \"first of all, new light reveal the distort and blacken form of the mysteri stranger. the hideou eye were now closed. dislik the sight, i turn away and enter the chamber beyond the gothic door. here i found what seem much like an alchemist' laboratory. in one corner wa an immens pile of shine yellow metal that sparkl gorgeous in the light of the torch. it may have been gold, but i did not paus to examin it, for i wa strang affect by that which i had undergone. at the farther end of the apart wa an open lead out into one of the mani wild ravin of the dark hillsid forest. fill with wonder, yet now realiz how the man had obtain access to the chauteau, i proceed to return. i had intend to pass by the remain of the stranger with avert face but, as i approach the body, i seem to hear eman from it a faint sound, as though life were not yet wholli extinct. aghast, i turn to examin the char and shrivel figur on the floor.\", \"then all at onc the horribl eyes, blacker even than the sear face in which they were set, open wide with an express which i wa unabl to interpret. the crack lip tri to frame word which i could not well understand. onc i caught the name of charl le sorcier, and again i fanci that the word 'years' and 'curse' issu from the twist mouth. still i wa at a loss to gather the purport of hi disconnnect speech. at my evid ignor of hi meaning, the pitchi eye onc more flash malevol at me, until, helpless as i saw my oppon to be, i trembl as i watch him.\", \"suddenli the wretch, anim with hi last burst of strength, rais hi piteou head from the damp and sunken pavement. then, as i remained, paralyz with fear, he found hi voic and in hi die breath scream forth those word which have ever afterward haunt my day and nights. 'fool!' he shrieked, 'can you not guess my secret? have you no brain wherebi you may recogn the will which ha through six long centuri fulfil the dread curs upon the house? have i not told you of the great elixir of etern life? know you not how the secret of alchemi wa solved? i tell you, it is i! i! i! that have live for six hundr year to maintain my revenge, for i am charl le sorcier!'\"]\n"
          ]
        }
      ]
    },
    {
      "cell_type": "code",
      "source": [
        "print('Lemmatized sentences:')\n",
        "print(lemmatized_sentences)"
      ],
      "metadata": {
        "colab": {
          "base_uri": "https://localhost:8080/"
        },
        "id": "ACY26qH33Tfm",
        "outputId": "8e7efc22-3994-4934-d9d5-3c786c636d70"
      },
      "execution_count": 6,
      "outputs": [
        {
          "output_type": "stream",
          "name": "stdout",
          "text": [
            "Lemmatized sentences:\n",
            "['High up, crowning the grassy summit of a swelling mount whose side are wooded near the base with the gnarled tree of the primeval forest stand the old chateau of my ancestors. For century it lofty battlement have frowned down upon the wild and rugged countryside about, serving a a home and stronghold for the proud house whose honored line is older even than the moss-grown castle walls. These ancient turrets, stained by the storm of generation and crumbling under the slow yet mighty pressure of time, formed in the age of feudalism one of the most dreaded and formidable fortress in all France. From it machicolated parapet and mounted battlement Barons, Counts, and even Kings had been defied, yet never had it spacious hall resounded to the footstep of the invader.', 'But since those glorious years, all is changed. A poverty but little above the level of dire want, together with a pride of name that forbids it alleviation by the pursuit of commercial life, have prevented the scion of our line from maintaining their estate in pristine splendour; and the falling stone of the walls, the overgrown vegetation in the parks, the dry and dusty moat, the ill- paved courtyards, and toppling tower without, a well a the sagging floors, the worm-eaten wainscots, and the faded tapestry within, all tell a gloomy tale of fallen grandeur. As the age passed, first one, then another of the four great turret were left to ruin, until at last but a single tower housed the sadly reduced descendant of the once mighty lord of the estate.', 'It wa in one of the vast and gloomy chamber of this remaining tower that I, Antoine, last of the unhappy and accursed Counts de C-, first saw the light of day, ninety long year ago. Within these wall and amongst the dark and shadowy forests, the wild ravine and grotto of the hillside below, were spent the first year of my troubled life. My parent I never knew. My father had been killed at the age of thirty-two, a month before I wa born, by the fall of a stone somehow dislodged from one of the deserted parapet of the castle. And my mother having died at my birth, my care and education devolved solely upon one remaining servitor, an old and trusted man of considerable intelligence, whose name I remember a Pierre. I wa an only child and the lack of companionship which this fact entailed upon me wa augmented by the strange care exercised by my aged guardian, in excluding me from the society of the peasant child whose abode were scattered here and there upon the plain that surround the base of the hill. At that time, Pierre said that this restriction wa imposed upon me because my noble birth placed me above association with such plebeian company. Now I know that it real object wa to keep from my ear the idle tale of the dread curse upon our line that were nightly told and magnified by the simple tenantry a they conversed in hushed accent in the glow of their cottage hearths.', 'Thus isolated, and thrown upon my own resources, I spent the hour of my childhood in poring over the ancient tome that filled the shadow haunted library of the chateau, and in roaming without aim or purpose through the perpetual dust of the spectral wood that clothes the side of the hill near it foot. It wa perhaps an effect of such surroundings that my mind early acquired a shade of melancholy. Those study and pursuit which partake of the dark and occult in nature most strongly claimed my attention.', 'Of my own race I wa permitted to learn singularly little, yet what small knowledge of it I wa able to gain seemed to depress me much. Perhaps it wa at first only the manifest reluctance of my old preceptor to discus with me my paternal ancestry that gave rise to the terror which I ever felt at the mention of my great house, yet a I grew out of childhood, I wa able to piece together disconnected fragment of discourse, let slip from the unwilling tongue which had begun to falter in approaching senility, that had a sort of relation to a certain circumstance which I had always deemed strange, but which now became dimly terrible. The circumstance to which I allude is the early age at which all the Counts of my line had met their end. Whilst I had hitherto considered this but a natural attribute of a family of short-lived men, I afterward pondered long upon these premature deaths, and began to connect them with the wandering of the old man, who often spoke of a curse which for century had prevented the life of the holder of my title from much exceeding the span of thirty-two years. Upon my twenty-first birthday, the aged Pierre gave to me a family document which he said had for many generation been handed down from father to son, and continued by each possessor. Its content were of the most startling nature, and it perusal confirmed the gravest of my apprehensions. At this time, my belief in the supernatural wa firm and deep-seated, else I should have dismissed with scorn the incredible narrative unfolded before my eyes.', \"The paper carried me back to the day of the thirteenth century, when the old castle in which I sat had been a feared and impregnable fortress. It told of a certain ancient man who had once dwelled on our estates, a person of no small accomplishments, though little above the rank of peasant, by name, Michel, usually designated by the surname of Mauvais, the Evil, on account of his sinister reputation. He had studied beyond the custom of his kind, seeking such thing a the Philosopher's Stone or the Elixir of Eternal Life, and wa reputed wise in the terrible secret of Black Magic and Alchemy. Michel Mauvais had one son, named Charles, a youth a proficient a himself in the hidden arts, who had therefore been called Le Sorcier, or the Wizard. This pair, shunned by all honest folk, were suspected of the most hideous practices. Old Michel wa said to have burnt his wife alive a a sacrifice to the Devil, and the unaccountable disappearance of many small peasant child wa laid at the dreaded door of these two. Yet through the dark nature of the father and son ran one redeeming ray of humanity; the evil old man loved his offspring with fierce intensity, whilst the youth had for his parent a more than filial affection.\", \"One night the castle on the hill wa thrown into the wildest confusion by the vanishment of young Godfrey, son to Henri, the Count. A searching party, headed by the frantic father, invaded the cottage of the sorcerer and there came upon old Michel Mauvais, busy over a huge and violently boiling cauldron. Without certain cause, in the ungoverned madness of fury and despair, the Count laid hand on the aged wizard, and ere he released his murderous hold, his victim wa no more. Meanwhile, joyful servant were proclaiming the finding of young Godfrey in a distant and unused chamber of the great edifice, telling too late that poor Michel had been killed in vain. As the Count and his associate turned away from the lowly abode of the alchemist, the form of Charles Le Sorcier appeared through the trees. The excited chatter of the menial standing about told him what had occurred, yet he seemed at first unmoved at his father's fate. Then, slowly advancing to meet the Count, he pronounced in dull yet terrible accent the curse that ever afterward haunted the house of C-.\", '', \"'May ne'er a noble of thy murd'rous line Survive to reach a greater age than thine!' spake he, when, suddenly leaping backwards into the black woods, he drew from his tunic a phial of colourless liquid which he threw into the face of his father's slayer a he disappeared behind the inky curtain of the night. The Count died without utterance, and wa buried the next day, but little more than two and thirty year from the hour of his birth. No trace of the assassin could be found, though relentless band of peasant scoured the neighboring wood and the meadowland around the hill.\", \"Thus time and the want of a reminder dulled the memory of the curse in the mind of the late Count's family, so that when Godfrey, innocent cause of the whole tragedy and now bearing the title, wa killed by an arrow whilst hunting at the age of thirty-two, there were no thought save those of grief at his demise. But when, year afterward, the next young Count, Robert by name, wa found dead in a nearby field of no apparent cause, the peasant told in whisper that their seigneur had but lately passed his thirty-second birthday when surprised by early death. Louis, son to Robert, wa found drowned in the moat at the same fateful age, and thus down through the century ran the ominous chronicle: Henris, Roberts, Antoines, and Armands snatched from happy and virtuous life when little below the age of their unfortunate ancestor at his murder.\", 'That I had left at most but eleven year of further existence wa made certain to me by the word which I had read. My life, previously held at small value, now became dearer to me each day, a I delved deeper and deeper into the mystery of the hidden world of black magic. Isolated a I was, modern science had produced no impression upon me, and I laboured a in the Middle Ages, a wrapt a had been old Michel and young Charles themselves in the acquisition of demonological and alchemical learning. Yet read a I might, in no manner could I account for the strange curse upon my line. In unusually rational moment I would even go so far a to seek a natural explanation, attributing the early death of my ancestor to the sinister Charles Le Sorcier and his heirs; yet, having found upon careful inquiry that there were no known descendant of the alchemist, I would fall back to occult studies, and once more endeavor to find a spell, that would release my house from it terrible burden. Upon one thing I wa absolutely resolved. I should never wed, for, since no other branch of my family wa in existence, I might thus end the curse with myself.', 'As I drew near the age of thirty, old Pierre wa called to the land beyond. Alone I buried him beneath the stone of the courtyard about which he had loved to wander in life. Thus wa I left to ponder on myself a the only human creature within the great fortress, and in my utter solitude my mind began to cease it vain protest against the impending doom, to become almost reconciled to the fate which so many of my ancestor had met. Much of my time wa now occupied in the exploration of the ruined and abandoned hall and tower of the old chateau, which in youth fear had caused me to shun, and some of which old Pierre had once told me had not been trodden by human foot for over four centuries. Strange and awesome were many of the object I encountered. Furniture, covered by the dust of age and crumbling with the rot of long dampness, met my eyes. Cobwebs in a profusion never before seen by me were spun everywhere, and huge bat flapped their bony and uncanny wing on all side of the otherwise untenanted gloom.', 'Of my exact age, even down to day and hours, I kept a most careful record, for each movement of the pendulum of the massive clock in the library told off so much of my doomed existence. At length I approached that time which I had so long viewed with apprehension. Since most of my ancestor had been seized some little while before they reached the exact age of Count Henri at his end, I wa every moment on the watch for the coming of the unknown death. In what strange form the curse should overtake me, I knew not; but I wa resolved at least that it should not find me a cowardly or a passive victim. With new vigour I applied myself to my examination of the old chateau and it contents.', 'It wa upon one of the longest of all my excursion of discovery in the deserted portion of the castle, le than a week before that fatal hour which I felt must mark the utmost limit of my stay on earth, beyond which I could have not even the slightest hope of continuing to draw breath that I came upon the culminating event of my whole life. I had spent the better part of the morning in climbing up and down half ruined staircase in one of the most dilapidated of the ancient turrets. As the afternoon progressed, I sought the lower levels, descending into what appeared to be either a mediaeval place of confinement, or a more recently excavated storehouse for gunpowder. As I slowly traversed the nitre-encrusted passageway at the foot of the last staircase, the paving became very damp, and soon I saw by the light of my flickering torch that a blank, water-stained wall impeded my journey. Turning to retrace my steps, my eye fell upon a small trapdoor with a ring, which lay directly beneath my foot. Pausing, I succeeded with difficulty in raising it, whereupon there wa revealed a black aperture, exhaling noxious fume which caused my torch to sputter, and disclosing in the unsteady glare the top of a flight of stone steps.', 'As soon a the torch which I lowered into the repellent depth burned freely and steadily, I commenced my descent. The step were many, and led to a narrow stone-flagged passage which I knew must be far underground. This passage proved of great length, and terminated in a massive oaken door, dripping with the moisture of the place, and stoutly resisting all my attempt to open it. Ceasing after a time my effort in this direction, I had proceeded back some distance toward the step when there suddenly fell to my experience one of the most profound and maddening shock capable of reception by the human mind. Without warning, I heard the heavy door behind me creak slowly open upon it rusted hinges. My immediate sensation were incapable of analysis. To be confronted in a place a thoroughly deserted a I had deemed the old castle with evidence of the presence of man or spirit produced in my brain a horror of the most acute description. When at last I turned and faced the seat of the sound, my eye must have started from their orbit at the sight that they beheld.', 'There in the ancient Gothic doorway stood a human figure. It wa that of a man clad in a skull-cap and long mediaeval tunic of dark colour. His long hair and flowing beard were of a terrible and intense black hue, and of incredible profusion. His forehead, high beyond the usual dimensions; his cheeks, deep- sunken and heavily lined with wrinkles; and his hands, long, claw-like, and gnarled, were of such a deadly marble-like whiteness a I have never elsewhere seen in man. His figure, lean to the proportion of a skeleton, wa strangely bent and almost lost within the voluminous fold of his peculiar garment. But strangest of all were his eyes, twin cave of abysmal blackness, profound in expression of understanding, yet inhuman in degree of wickedness. These were now fixed upon me, piercing my soul with their hatred, and rooting me to the spot whereon I stood.', \"At last the figure spoke in a rumbling voice that chilled me through with it dull hollowness and latent malevolence. The language in which the discourse wa clothed wa that debased form of Latin in use amongst the more learned men of the Middle Ages, and made familiar to me by my prolonged research into the work of the old alchemist and demonologists. The apparition spoke of the curse which had hovered over my house, told me of my coming end, dwelt on the wrong perpetrated by my ancestor against old Michel Mauvais, and gloated over the revenge of Charles Le Sorcier. He told how young Charles ha escaped into the night, returning in after year to kill Godfrey the heir with an arrow just a he approached the age which had been his father's at his assassination; how he had secretly returned to the estate and established himself, unknown, in the even then deserted subterranean chamber whose doorway now framed the hideous narrator, how he had seized Robert, son of Godfrey, in a field, forced poison down his throat, and left him to die at the age of thirty-two, thus maintaing the foul provision of his vengeful curse. At this point I wa left to imagine the solution of the greatest mystery of all, how the curse had been fulfilled since that time when Charles Le Sorcier must in the course of nature have died, for the man digressed into an account of the deep alchemical study of the two wizards, father and son, speaking most particularly of the research of Charles Le Sorcier concerning the elixir which should grant to him who partook of it eternal life and youth.\", 'His enthusiasm had seemed for the moment to remove from his terrible eye the black malevolence that had first so haunted me, but suddenly the fiendish glare returned and, with a shocking sound like the hissing of a serpent, the stranger raised a glass phial with the evident intent of ending my life a had Charles Le Sorcier, six hundred year before, ended that of my ancestor. Prompted by some preserving instinct of self-defense, I broke through the spell that had hitherto held me immovable, and flung my now dying torch at the creature who menaced my existence. I heard the phial break harmlessly against the stone of the passage a the tunic of the strange man caught fire and lit the horrid scene with a ghastly radiance. The shriek of fright and impotent malice emitted by the would- be assassin proved too much for my already shaken nerves, and I fell prone upon the slimy floor in a total faint.', 'When at last my sens returned, all wa frightfully dark, and my mind, remembering what had occurred, shrank from the idea of beholding any more; yet curiosity over-mastered all. Who, I asked myself, wa this man of evil, and how came he within the castle walls? Why should he seek to avenge the death of Michel Mauvais, and how bad the curse been carried on through all the long century since the time of Charles Le Sorcier? The dread of year wa lifted from my shoulder, for I knew that he whom I had felled wa the source of all my danger from the curse; and now that I wa free, I burned with the desire to learn more of the sinister thing which had haunted my line for centuries, and made of my own youth one long-continued nightmare. Determined upon further exploration, I felt in my pocket for flint and steel, and lit the unused torch which I had with me.', \"First of all, new light revealed the distorted and blackened form of the mysterious stranger. The hideous eye were now closed. Disliking the sight, I turned away and entered the chamber beyond the Gothic door. Here I found what seemed much like an alchemist's laboratory. In one corner wa an immense pile of shining yellow metal that sparkled gorgeously in the light of the torch. It may have been gold, but I did not pause to examine it, for I wa strangely affected by that which I had undergone. At the farther end of the apartment wa an opening leading out into one of the many wild ravine of the dark hillside forest. Filled with wonder, yet now realizing how the man had obtained access to the chauteau, I proceeded to return. I had intended to pas by the remains of the stranger with averted face but, a I approached the body, I seemed to hear emanating from it a faint sound, a though life were not yet wholly extinct. Aghast, I turned to examine the charred and shrivelled figure on the floor.\", \"Then all at once the horrible eyes, blacker even than the seared face in which they were set, opened wide with an expression which I wa unable to interpret. The cracked lip tried to frame word which I could not well understand. Once I caught the name of Charles Le Sorcier, and again I fancied that the word 'years' and 'curse' issued from the twisted mouth. Still I wa at a loss to gather the purport of his disconnnected speech. At my evident ignorance of his meaning, the pitchy eye once more flashed malevolently at me, until, helpless a I saw my opponent to be, I trembled a I watched him.\", \"Suddenly the wretch, animated with his last burst of strength, raised his piteous head from the damp and sunken pavement. Then, a I remained, paralyzed with fear, he found his voice and in his dying breath screamed forth those word which have ever afterward haunted my day and nights. 'Fool!' he shrieked, 'Can you not guess my secret? Have you no brain whereby you may recognize the will which ha through six long century fulfilled the dreadful curse upon the house? Have I not told you of the great elixir of eternal life? Know you not how the secret of Alchemy wa solved? I tell you, it is I! I! I! that have lived for six hundred year to maintain my revenge, for I am Charles Le Sorcier!'\"]\n"
          ]
        }
      ]
    },
    {
      "cell_type": "markdown",
      "source": [
        "#Part of Speech\n",
        "\n",
        "###NNP is proper noun\n",
        "###DT is determiner\n",
        "###IN is preposition\n",
        "###NN is noun"
      ],
      "metadata": {
        "id": "pjTdtcYC4Xwb"
      }
    },
    {
      "cell_type": "code",
      "source": [
        "extracted_text = \"\"\n",
        "for paragraph in doc.paragraphs:\n",
        "  extracted_text += paragraph.text + '\\n'\n",
        "words = word_tokenize(extracted_text)"
      ],
      "metadata": {
        "id": "ynWVPO7w4CVk"
      },
      "execution_count": 7,
      "outputs": []
    },
    {
      "cell_type": "code",
      "source": [
        "tags = nltk.pos_tag(words)\n",
        "print(tags)"
      ],
      "metadata": {
        "colab": {
          "base_uri": "https://localhost:8080/"
        },
        "id": "PKc6ZqsS5a71",
        "outputId": "b28451ad-d2aa-4fa3-dd48-f471d1c50321"
      },
      "execution_count": 8,
      "outputs": [
        {
          "output_type": "stream",
          "name": "stdout",
          "text": [
            "[('High', 'NNP'), ('up', 'RB'), (',', ','), ('crowning', 'VBG'), ('the', 'DT'), ('grassy', 'JJ'), ('summit', 'NN'), ('of', 'IN'), ('a', 'DT'), ('swelling', 'VBG'), ('mount', 'NN'), ('whose', 'WP$'), ('sides', 'NNS'), ('are', 'VBP'), ('wooded', 'VBN'), ('near', 'IN'), ('the', 'DT'), ('base', 'NN'), ('with', 'IN'), ('the', 'DT'), ('gnarled', 'JJ'), ('trees', 'NNS'), ('of', 'IN'), ('the', 'DT'), ('primeval', 'NN'), ('forest', 'JJS'), ('stands', 'VBZ'), ('the', 'DT'), ('old', 'JJ'), ('chateau', 'NN'), ('of', 'IN'), ('my', 'PRP$'), ('ancestors', 'NNS'), ('.', '.'), ('For', 'IN'), ('centuries', 'NNS'), ('its', 'PRP$'), ('lofty', 'JJ'), ('battlements', 'NNS'), ('have', 'VBP'), ('frowned', 'VBN'), ('down', 'RP'), ('upon', 'IN'), ('the', 'DT'), ('wild', 'JJ'), ('and', 'CC'), ('rugged', 'VBD'), ('countryside', 'NN'), ('about', 'IN'), (',', ','), ('serving', 'VBG'), ('as', 'IN'), ('a', 'DT'), ('home', 'NN'), ('and', 'CC'), ('stronghold', 'NN'), ('for', 'IN'), ('the', 'DT'), ('proud', 'JJ'), ('house', 'NN'), ('whose', 'WP$'), ('honored', 'JJ'), ('line', 'NN'), ('is', 'VBZ'), ('older', 'JJR'), ('even', 'RB'), ('than', 'IN'), ('the', 'DT'), ('moss-grown', 'JJ'), ('castle', 'NN'), ('walls', 'NNS'), ('.', '.'), ('These', 'DT'), ('ancient', 'JJ'), ('turrets', 'NNS'), (',', ','), ('stained', 'VBN'), ('by', 'IN'), ('the', 'DT'), ('storms', 'NNS'), ('of', 'IN'), ('generations', 'NNS'), ('and', 'CC'), ('crumbling', 'VBG'), ('under', 'IN'), ('the', 'DT'), ('slow', 'JJ'), ('yet', 'RB'), ('mighty', 'JJ'), ('pressure', 'NN'), ('of', 'IN'), ('time', 'NN'), (',', ','), ('formed', 'VBN'), ('in', 'IN'), ('the', 'DT'), ('ages', 'NNS'), ('of', 'IN'), ('feudalism', 'NN'), ('one', 'CD'), ('of', 'IN'), ('the', 'DT'), ('most', 'RBS'), ('dreaded', 'JJ'), ('and', 'CC'), ('formidable', 'JJ'), ('fortresses', 'NNS'), ('in', 'IN'), ('all', 'DT'), ('France', 'NNP'), ('.', '.'), ('From', 'IN'), ('its', 'PRP$'), ('machicolated', 'VBN'), ('parapets', 'NNS'), ('and', 'CC'), ('mounted', 'VBD'), ('battlements', 'NNS'), ('Barons', 'NNP'), (',', ','), ('Counts', 'NNP'), (',', ','), ('and', 'CC'), ('even', 'RB'), ('Kings', 'NNP'), ('had', 'VBD'), ('been', 'VBN'), ('defied', 'VBN'), (',', ','), ('yet', 'RB'), ('never', 'RB'), ('had', 'VBD'), ('its', 'PRP$'), ('spacious', 'JJ'), ('halls', 'NNS'), ('resounded', 'VBD'), ('to', 'TO'), ('the', 'DT'), ('footsteps', 'NNS'), ('of', 'IN'), ('the', 'DT'), ('invader', 'NN'), ('.', '.'), ('But', 'CC'), ('since', 'IN'), ('those', 'DT'), ('glorious', 'JJ'), ('years', 'NNS'), (',', ','), ('all', 'DT'), ('is', 'VBZ'), ('changed', 'VBN'), ('.', '.'), ('A', 'NNP'), ('poverty', 'NN'), ('but', 'CC'), ('little', 'JJ'), ('above', 'IN'), ('the', 'DT'), ('level', 'NN'), ('of', 'IN'), ('dire', 'NN'), ('want', 'NN'), (',', ','), ('together', 'RB'), ('with', 'IN'), ('a', 'DT'), ('pride', 'NN'), ('of', 'IN'), ('name', 'NN'), ('that', 'WDT'), ('forbids', 'VBZ'), ('its', 'PRP$'), ('alleviation', 'NN'), ('by', 'IN'), ('the', 'DT'), ('pursuits', 'NNS'), ('of', 'IN'), ('commercial', 'JJ'), ('life', 'NN'), (',', ','), ('have', 'VBP'), ('prevented', 'VBN'), ('the', 'DT'), ('scions', 'NNS'), ('of', 'IN'), ('our', 'PRP$'), ('line', 'NN'), ('from', 'IN'), ('maintaining', 'VBG'), ('their', 'PRP$'), ('estates', 'NNS'), ('in', 'IN'), ('pristine', 'JJ'), ('splendour', 'NN'), (';', ':'), ('and', 'CC'), ('the', 'DT'), ('falling', 'VBG'), ('stones', 'NNS'), ('of', 'IN'), ('the', 'DT'), ('walls', 'NNS'), (',', ','), ('the', 'DT'), ('overgrown', 'JJ'), ('vegetation', 'NN'), ('in', 'IN'), ('the', 'DT'), ('parks', 'NNS'), (',', ','), ('the', 'DT'), ('dry', 'JJ'), ('and', 'CC'), ('dusty', 'JJ'), ('moat', 'NN'), (',', ','), ('the', 'DT'), ('ill-', 'JJ'), ('paved', 'JJ'), ('courtyards', 'NNS'), (',', ','), ('and', 'CC'), ('toppling', 'VBG'), ('towers', 'NNS'), ('without', 'IN'), (',', ','), ('as', 'RB'), ('well', 'RB'), ('as', 'IN'), ('the', 'DT'), ('sagging', 'NN'), ('floors', 'NNS'), (',', ','), ('the', 'DT'), ('worm-eaten', 'JJ'), ('wainscots', 'NNS'), (',', ','), ('and', 'CC'), ('the', 'DT'), ('faded', 'JJ'), ('tapestries', 'NNS'), ('within', 'IN'), (',', ','), ('all', 'DT'), ('tell', 'VBP'), ('a', 'DT'), ('gloomy', 'JJ'), ('tale', 'NN'), ('of', 'IN'), ('fallen', 'VBN'), ('grandeur', 'NN'), ('.', '.'), ('As', 'IN'), ('the', 'DT'), ('ages', 'NNS'), ('passed', 'VBD'), (',', ','), ('first', 'RB'), ('one', 'CD'), (',', ','), ('then', 'RB'), ('another', 'DT'), ('of', 'IN'), ('the', 'DT'), ('four', 'CD'), ('great', 'JJ'), ('turrets', 'NNS'), ('were', 'VBD'), ('left', 'VBN'), ('to', 'TO'), ('ruin', 'VB'), (',', ','), ('until', 'IN'), ('at', 'IN'), ('last', 'JJ'), ('but', 'CC'), ('a', 'DT'), ('single', 'JJ'), ('tower', 'NN'), ('housed', 'VBD'), ('the', 'DT'), ('sadly', 'RB'), ('reduced', 'JJ'), ('descendants', 'NNS'), ('of', 'IN'), ('the', 'DT'), ('once', 'RB'), ('mighty', 'JJ'), ('lords', 'NNS'), ('of', 'IN'), ('the', 'DT'), ('estate', 'NN'), ('.', '.'), ('It', 'PRP'), ('was', 'VBD'), ('in', 'IN'), ('one', 'CD'), ('of', 'IN'), ('the', 'DT'), ('vast', 'JJ'), ('and', 'CC'), ('gloomy', 'JJ'), ('chambers', 'NNS'), ('of', 'IN'), ('this', 'DT'), ('remaining', 'VBG'), ('tower', 'NN'), ('that', 'IN'), ('I', 'PRP'), (',', ','), ('Antoine', 'NNP'), (',', ','), ('last', 'JJ'), ('of', 'IN'), ('the', 'DT'), ('unhappy', 'JJ'), ('and', 'CC'), ('accursed', 'JJ'), ('Counts', 'NNP'), ('de', 'IN'), ('C-', 'NNP'), (',', ','), ('first', 'RB'), ('saw', 'VBD'), ('the', 'DT'), ('light', 'NN'), ('of', 'IN'), ('day', 'NN'), (',', ','), ('ninety', 'NN'), ('long', 'CD'), ('years', 'NNS'), ('ago', 'RB'), ('.', '.'), ('Within', 'IN'), ('these', 'DT'), ('walls', 'NNS'), ('and', 'CC'), ('amongst', 'VB'), ('the', 'DT'), ('dark', 'NN'), ('and', 'CC'), ('shadowy', 'JJ'), ('forests', 'NNS'), (',', ','), ('the', 'DT'), ('wild', 'JJ'), ('ravines', 'NNS'), ('and', 'CC'), ('grottos', 'NN'), ('of', 'IN'), ('the', 'DT'), ('hillside', 'NN'), ('below', 'IN'), (',', ','), ('were', 'VBD'), ('spent', 'VBN'), ('the', 'DT'), ('first', 'JJ'), ('years', 'NNS'), ('of', 'IN'), ('my', 'PRP$'), ('troubled', 'JJ'), ('life', 'NN'), ('.', '.'), ('My', 'PRP$'), ('parents', 'NNS'), ('I', 'PRP'), ('never', 'RB'), ('knew', 'VBD'), ('.', '.'), ('My', 'PRP$'), ('father', 'NN'), ('had', 'VBD'), ('been', 'VBN'), ('killed', 'VBN'), ('at', 'IN'), ('the', 'DT'), ('age', 'NN'), ('of', 'IN'), ('thirty-two', 'NN'), (',', ','), ('a', 'DT'), ('month', 'NN'), ('before', 'IN'), ('I', 'PRP'), ('was', 'VBD'), ('born', 'VBN'), (',', ','), ('by', 'IN'), ('the', 'DT'), ('fall', 'NN'), ('of', 'IN'), ('a', 'DT'), ('stone', 'NN'), ('somehow', 'RB'), ('dislodged', 'VBD'), ('from', 'IN'), ('one', 'CD'), ('of', 'IN'), ('the', 'DT'), ('deserted', 'JJ'), ('parapets', 'NNS'), ('of', 'IN'), ('the', 'DT'), ('castle', 'NN'), ('.', '.'), ('And', 'CC'), ('my', 'PRP$'), ('mother', 'NN'), ('having', 'VBG'), ('died', 'VBN'), ('at', 'IN'), ('my', 'PRP$'), ('birth', 'NN'), (',', ','), ('my', 'PRP$'), ('care', 'NN'), ('and', 'CC'), ('education', 'NN'), ('devolved', 'VBD'), ('solely', 'RB'), ('upon', 'IN'), ('one', 'CD'), ('remaining', 'VBG'), ('servitor', 'NN'), (',', ','), ('an', 'DT'), ('old', 'JJ'), ('and', 'CC'), ('trusted', 'VBD'), ('man', 'NN'), ('of', 'IN'), ('considerable', 'JJ'), ('intelligence', 'NN'), (',', ','), ('whose', 'WP$'), ('name', 'NN'), ('I', 'PRP'), ('remember', 'VBP'), ('as', 'IN'), ('Pierre', 'NNP'), ('.', '.'), ('I', 'PRP'), ('was', 'VBD'), ('an', 'DT'), ('only', 'JJ'), ('child', 'NN'), ('and', 'CC'), ('the', 'DT'), ('lack', 'NN'), ('of', 'IN'), ('companionship', 'NN'), ('which', 'WDT'), ('this', 'DT'), ('fact', 'NN'), ('entailed', 'VBD'), ('upon', 'IN'), ('me', 'PRP'), ('was', 'VBD'), ('augmented', 'VBN'), ('by', 'IN'), ('the', 'DT'), ('strange', 'JJ'), ('care', 'NN'), ('exercised', 'VBN'), ('by', 'IN'), ('my', 'PRP$'), ('aged', 'JJ'), ('guardian', 'NN'), (',', ','), ('in', 'IN'), ('excluding', 'VBG'), ('me', 'PRP'), ('from', 'IN'), ('the', 'DT'), ('society', 'NN'), ('of', 'IN'), ('the', 'DT'), ('peasant', 'JJ'), ('children', 'NNS'), ('whose', 'WP$'), ('abodes', 'NNS'), ('were', 'VBD'), ('scattered', 'VBN'), ('here', 'RB'), ('and', 'CC'), ('there', 'RB'), ('upon', 'IN'), ('the', 'DT'), ('plains', 'NNS'), ('that', 'WDT'), ('surround', 'VBP'), ('the', 'DT'), ('base', 'NN'), ('of', 'IN'), ('the', 'DT'), ('hill', 'NN'), ('.', '.'), ('At', 'IN'), ('that', 'DT'), ('time', 'NN'), (',', ','), ('Pierre', 'NNP'), ('said', 'VBD'), ('that', 'IN'), ('this', 'DT'), ('restriction', 'NN'), ('was', 'VBD'), ('imposed', 'VBN'), ('upon', 'IN'), ('me', 'PRP'), ('because', 'IN'), ('my', 'PRP$'), ('noble', 'JJ'), ('birth', 'NN'), ('placed', 'VBD'), ('me', 'PRP'), ('above', 'IN'), ('association', 'NN'), ('with', 'IN'), ('such', 'JJ'), ('plebeian', 'JJ'), ('company', 'NN'), ('.', '.'), ('Now', 'RB'), ('I', 'PRP'), ('know', 'VBP'), ('that', 'IN'), ('its', 'PRP$'), ('real', 'JJ'), ('object', 'NN'), ('was', 'VBD'), ('to', 'TO'), ('keep', 'VB'), ('from', 'IN'), ('my', 'PRP$'), ('ears', 'NNS'), ('the', 'DT'), ('idle', 'JJ'), ('tales', 'NNS'), ('of', 'IN'), ('the', 'DT'), ('dread', 'JJ'), ('curse', 'NN'), ('upon', 'IN'), ('our', 'PRP$'), ('line', 'NN'), ('that', 'WDT'), ('were', 'VBD'), ('nightly', 'RB'), ('told', 'VBN'), ('and', 'CC'), ('magnified', 'VBN'), ('by', 'IN'), ('the', 'DT'), ('simple', 'JJ'), ('tenantry', 'NN'), ('as', 'IN'), ('they', 'PRP'), ('conversed', 'VBD'), ('in', 'IN'), ('hushed', 'JJ'), ('accents', 'NNS'), ('in', 'IN'), ('the', 'DT'), ('glow', 'NN'), ('of', 'IN'), ('their', 'PRP$'), ('cottage', 'NN'), ('hearths', 'NNS'), ('.', '.'), ('Thus', 'RB'), ('isolated', 'JJ'), (',', ','), ('and', 'CC'), ('thrown', 'IN'), ('upon', 'JJ'), ('my', 'PRP$'), ('own', 'JJ'), ('resources', 'NNS'), (',', ','), ('I', 'PRP'), ('spent', 'VBD'), ('the', 'DT'), ('hours', 'NNS'), ('of', 'IN'), ('my', 'PRP$'), ('childhood', 'NN'), ('in', 'IN'), ('poring', 'VBG'), ('over', 'IN'), ('the', 'DT'), ('ancient', 'JJ'), ('tomes', 'NNS'), ('that', 'WDT'), ('filled', 'VBD'), ('the', 'DT'), ('shadow', 'NN'), ('haunted', 'VBD'), ('library', 'NN'), ('of', 'IN'), ('the', 'DT'), ('chateau', 'NN'), (',', ','), ('and', 'CC'), ('in', 'IN'), ('roaming', 'VBG'), ('without', 'IN'), ('aim', 'NN'), ('or', 'CC'), ('purpose', 'VB'), ('through', 'IN'), ('the', 'DT'), ('perpetual', 'JJ'), ('dust', 'NN'), ('of', 'IN'), ('the', 'DT'), ('spectral', 'JJ'), ('wood', 'NN'), ('that', 'WDT'), ('clothes', 'VBZ'), ('the', 'DT'), ('side', 'NN'), ('of', 'IN'), ('the', 'DT'), ('hill', 'NN'), ('near', 'IN'), ('its', 'PRP$'), ('foot', 'NN'), ('.', '.'), ('It', 'PRP'), ('was', 'VBD'), ('perhaps', 'RB'), ('an', 'DT'), ('effect', 'NN'), ('of', 'IN'), ('such', 'JJ'), ('surroundings', 'NNS'), ('that', 'IN'), ('my', 'PRP$'), ('mind', 'NN'), ('early', 'RB'), ('acquired', 'VBD'), ('a', 'DT'), ('shade', 'NN'), ('of', 'IN'), ('melancholy', 'NN'), ('.', '.'), ('Those', 'DT'), ('studies', 'NNS'), ('and', 'CC'), ('pursuits', 'NNS'), ('which', 'WDT'), ('partake', 'VBP'), ('of', 'IN'), ('the', 'DT'), ('dark', 'NN'), ('and', 'CC'), ('occult', 'NN'), ('in', 'IN'), ('nature', 'NN'), ('most', 'RBS'), ('strongly', 'RB'), ('claimed', 'VBD'), ('my', 'PRP$'), ('attention', 'NN'), ('.', '.'), ('Of', 'IN'), ('my', 'PRP$'), ('own', 'JJ'), ('race', 'NN'), ('I', 'PRP'), ('was', 'VBD'), ('permitted', 'VBN'), ('to', 'TO'), ('learn', 'VB'), ('singularly', 'RB'), ('little', 'JJ'), (',', ','), ('yet', 'RB'), ('what', 'WP'), ('small', 'JJ'), ('knowledge', 'NN'), ('of', 'IN'), ('it', 'PRP'), ('I', 'PRP'), ('was', 'VBD'), ('able', 'JJ'), ('to', 'TO'), ('gain', 'VB'), ('seemed', 'JJ'), ('to', 'TO'), ('depress', 'VB'), ('me', 'PRP'), ('much', 'JJ'), ('.', '.'), ('Perhaps', 'RB'), ('it', 'PRP'), ('was', 'VBD'), ('at', 'IN'), ('first', 'JJ'), ('only', 'RB'), ('the', 'DT'), ('manifest', 'JJS'), ('reluctance', 'NN'), ('of', 'IN'), ('my', 'PRP$'), ('old', 'JJ'), ('preceptor', 'NN'), ('to', 'TO'), ('discuss', 'VB'), ('with', 'IN'), ('me', 'PRP'), ('my', 'PRP$'), ('paternal', 'JJ'), ('ancestry', 'NN'), ('that', 'WDT'), ('gave', 'VBD'), ('rise', 'NN'), ('to', 'TO'), ('the', 'DT'), ('terror', 'NN'), ('which', 'WDT'), ('I', 'PRP'), ('ever', 'RB'), ('felt', 'VBD'), ('at', 'IN'), ('the', 'DT'), ('mention', 'NN'), ('of', 'IN'), ('my', 'PRP$'), ('great', 'JJ'), ('house', 'NN'), (',', ','), ('yet', 'CC'), ('as', 'IN'), ('I', 'PRP'), ('grew', 'VBD'), ('out', 'RB'), ('of', 'IN'), ('childhood', 'NN'), (',', ','), ('I', 'PRP'), ('was', 'VBD'), ('able', 'JJ'), ('to', 'TO'), ('piece', 'VB'), ('together', 'RB'), ('disconnected', 'JJ'), ('fragments', 'NNS'), ('of', 'IN'), ('discourse', 'NN'), (',', ','), ('let', 'VB'), ('slip', 'NN'), ('from', 'IN'), ('the', 'DT'), ('unwilling', 'JJ'), ('tongue', 'NN'), ('which', 'WDT'), ('had', 'VBD'), ('begun', 'VBN'), ('to', 'TO'), ('falter', 'VB'), ('in', 'IN'), ('approaching', 'VBG'), ('senility', 'NN'), (',', ','), ('that', 'WDT'), ('had', 'VBD'), ('a', 'DT'), ('sort', 'NN'), ('of', 'IN'), ('relation', 'NN'), ('to', 'TO'), ('a', 'DT'), ('certain', 'JJ'), ('circumstance', 'NN'), ('which', 'WDT'), ('I', 'PRP'), ('had', 'VBD'), ('always', 'RB'), ('deemed', 'VBN'), ('strange', 'JJ'), (',', ','), ('but', 'CC'), ('which', 'WDT'), ('now', 'RB'), ('became', 'VBD'), ('dimly', 'RB'), ('terrible', 'JJ'), ('.', '.'), ('The', 'DT'), ('circumstance', 'NN'), ('to', 'TO'), ('which', 'WDT'), ('I', 'PRP'), ('allude', 'VBP'), ('is', 'VBZ'), ('the', 'DT'), ('early', 'JJ'), ('age', 'NN'), ('at', 'IN'), ('which', 'WDT'), ('all', 'PDT'), ('the', 'DT'), ('Counts', 'NNP'), ('of', 'IN'), ('my', 'PRP$'), ('line', 'NN'), ('had', 'VBD'), ('met', 'VBN'), ('their', 'PRP$'), ('end', 'NN'), ('.', '.'), ('Whilst', 'NNP'), ('I', 'PRP'), ('had', 'VBD'), ('hitherto', 'VBN'), ('considered', 'VBN'), ('this', 'DT'), ('but', 'CC'), ('a', 'DT'), ('natural', 'JJ'), ('attribute', 'NN'), ('of', 'IN'), ('a', 'DT'), ('family', 'NN'), ('of', 'IN'), ('short-lived', 'JJ'), ('men', 'NNS'), (',', ','), ('I', 'PRP'), ('afterward', 'RB'), ('pondered', 'VBD'), ('long', 'JJ'), ('upon', 'IN'), ('these', 'DT'), ('premature', 'JJ'), ('deaths', 'NNS'), (',', ','), ('and', 'CC'), ('began', 'VBD'), ('to', 'TO'), ('connect', 'VB'), ('them', 'PRP'), ('with', 'IN'), ('the', 'DT'), ('wanderings', 'NNS'), ('of', 'IN'), ('the', 'DT'), ('old', 'JJ'), ('man', 'NN'), (',', ','), ('who', 'WP'), ('often', 'RB'), ('spoke', 'VBD'), ('of', 'IN'), ('a', 'DT'), ('curse', 'NN'), ('which', 'WDT'), ('for', 'IN'), ('centuries', 'NNS'), ('had', 'VBD'), ('prevented', 'VBN'), ('the', 'DT'), ('lives', 'NNS'), ('of', 'IN'), ('the', 'DT'), ('holders', 'NNS'), ('of', 'IN'), ('my', 'PRP$'), ('title', 'NN'), ('from', 'IN'), ('much', 'JJ'), ('exceeding', 'VBG'), ('the', 'DT'), ('span', 'NN'), ('of', 'IN'), ('thirty-two', 'JJ'), ('years', 'NNS'), ('.', '.'), ('Upon', 'IN'), ('my', 'PRP$'), ('twenty-first', 'JJ'), ('birthday', 'NN'), (',', ','), ('the', 'DT'), ('aged', 'JJ'), ('Pierre', 'NNP'), ('gave', 'VBD'), ('to', 'TO'), ('me', 'PRP'), ('a', 'DT'), ('family', 'NN'), ('document', 'NN'), ('which', 'WDT'), ('he', 'PRP'), ('said', 'VBD'), ('had', 'VBD'), ('for', 'IN'), ('many', 'JJ'), ('generations', 'NNS'), ('been', 'VBN'), ('handed', 'VBN'), ('down', 'RP'), ('from', 'IN'), ('father', 'NN'), ('to', 'TO'), ('son', 'NN'), (',', ','), ('and', 'CC'), ('continued', 'VBN'), ('by', 'IN'), ('each', 'DT'), ('possessor', 'NN'), ('.', '.'), ('Its', 'PRP$'), ('contents', 'NNS'), ('were', 'VBD'), ('of', 'IN'), ('the', 'DT'), ('most', 'RBS'), ('startling', 'JJ'), ('nature', 'NN'), (',', ','), ('and', 'CC'), ('its', 'PRP$'), ('perusal', 'NN'), ('confirmed', 'VBD'), ('the', 'DT'), ('gravest', 'NN'), ('of', 'IN'), ('my', 'PRP$'), ('apprehensions', 'NNS'), ('.', '.'), ('At', 'IN'), ('this', 'DT'), ('time', 'NN'), (',', ','), ('my', 'PRP$'), ('belief', 'NN'), ('in', 'IN'), ('the', 'DT'), ('supernatural', 'NN'), ('was', 'VBD'), ('firm', 'JJ'), ('and', 'CC'), ('deep-seated', 'JJ'), (',', ','), ('else', 'JJ'), ('I', 'PRP'), ('should', 'MD'), ('have', 'VB'), ('dismissed', 'VBN'), ('with', 'IN'), ('scorn', 'PDT'), ('the', 'DT'), ('incredible', 'JJ'), ('narrative', 'JJ'), ('unfolded', 'VBN'), ('before', 'IN'), ('my', 'PRP$'), ('eyes', 'NNS'), ('.', '.'), ('The', 'DT'), ('paper', 'NN'), ('carried', 'VBD'), ('me', 'PRP'), ('back', 'RB'), ('to', 'TO'), ('the', 'DT'), ('days', 'NNS'), ('of', 'IN'), ('the', 'DT'), ('thirteenth', 'JJ'), ('century', 'NN'), (',', ','), ('when', 'WRB'), ('the', 'DT'), ('old', 'JJ'), ('castle', 'NN'), ('in', 'IN'), ('which', 'WDT'), ('I', 'PRP'), ('sat', 'VBD'), ('had', 'VBD'), ('been', 'VBN'), ('a', 'DT'), ('feared', 'VBN'), ('and', 'CC'), ('impregnable', 'JJ'), ('fortress', 'NN'), ('.', '.'), ('It', 'PRP'), ('told', 'VBD'), ('of', 'IN'), ('a', 'DT'), ('certain', 'JJ'), ('ancient', 'JJ'), ('man', 'NN'), ('who', 'WP'), ('had', 'VBD'), ('once', 'RB'), ('dwelled', 'VBN'), ('on', 'IN'), ('our', 'PRP$'), ('estates', 'NNS'), (',', ','), ('a', 'DT'), ('person', 'NN'), ('of', 'IN'), ('no', 'DT'), ('small', 'JJ'), ('accomplishments', 'NNS'), (',', ','), ('though', 'RB'), ('little', 'JJ'), ('above', 'IN'), ('the', 'DT'), ('rank', 'NN'), ('of', 'IN'), ('peasant', 'NN'), (',', ','), ('by', 'IN'), ('name', 'NN'), (',', ','), ('Michel', 'NNP'), (',', ','), ('usually', 'RB'), ('designated', 'VBN'), ('by', 'IN'), ('the', 'DT'), ('surname', 'NN'), ('of', 'IN'), ('Mauvais', 'NNP'), (',', ','), ('the', 'DT'), ('Evil', 'NNP'), (',', ','), ('on', 'IN'), ('account', 'NN'), ('of', 'IN'), ('his', 'PRP$'), ('sinister', 'NN'), ('reputation', 'NN'), ('.', '.'), ('He', 'PRP'), ('had', 'VBD'), ('studied', 'VBN'), ('beyond', 'IN'), ('the', 'DT'), ('custom', 'NN'), ('of', 'IN'), ('his', 'PRP$'), ('kind', 'NN'), (',', ','), ('seeking', 'VBG'), ('such', 'JJ'), ('things', 'NNS'), ('as', 'IN'), ('the', 'DT'), ('Philosopher', 'NNP'), (\"'s\", 'POS'), ('Stone', 'NNP'), ('or', 'CC'), ('the', 'DT'), ('Elixir', 'NNP'), ('of', 'IN'), ('Eternal', 'NNP'), ('Life', 'NNP'), (',', ','), ('and', 'CC'), ('was', 'VBD'), ('reputed', 'VBN'), ('wise', 'NN'), ('in', 'IN'), ('the', 'DT'), ('terrible', 'JJ'), ('secrets', 'NNS'), ('of', 'IN'), ('Black', 'NNP'), ('Magic', 'NNP'), ('and', 'CC'), ('Alchemy', 'NNP'), ('.', '.'), ('Michel', 'NNP'), ('Mauvais', 'NNP'), ('had', 'VBD'), ('one', 'CD'), ('son', 'NN'), (',', ','), ('named', 'VBN'), ('Charles', 'NNP'), (',', ','), ('a', 'DT'), ('youth', 'NN'), ('as', 'RB'), ('proficient', 'JJ'), ('as', 'IN'), ('himself', 'PRP'), ('in', 'IN'), ('the', 'DT'), ('hidden', 'JJ'), ('arts', 'NNS'), (',', ','), ('who', 'WP'), ('had', 'VBD'), ('therefore', 'RB'), ('been', 'VBN'), ('called', 'VBN'), ('Le', 'NNP'), ('Sorcier', 'NNP'), (',', ','), ('or', 'CC'), ('the', 'DT'), ('Wizard', 'NNP'), ('.', '.'), ('This', 'DT'), ('pair', 'NN'), (',', ','), ('shunned', 'VBN'), ('by', 'IN'), ('all', 'DT'), ('honest', 'JJS'), ('folk', 'NN'), (',', ','), ('were', 'VBD'), ('suspected', 'VBN'), ('of', 'IN'), ('the', 'DT'), ('most', 'RBS'), ('hideous', 'JJ'), ('practices', 'NNS'), ('.', '.'), ('Old', 'NNP'), ('Michel', 'NNP'), ('was', 'VBD'), ('said', 'VBD'), ('to', 'TO'), ('have', 'VB'), ('burnt', 'VBN'), ('his', 'PRP$'), ('wife', 'NN'), ('alive', 'JJ'), ('as', 'IN'), ('a', 'DT'), ('sacrifice', 'NN'), ('to', 'TO'), ('the', 'DT'), ('Devil', 'NNP'), (',', ','), ('and', 'CC'), ('the', 'DT'), ('unaccountable', 'JJ'), ('disappearance', 'NN'), ('of', 'IN'), ('many', 'JJ'), ('small', 'JJ'), ('peasant', 'JJ'), ('children', 'NNS'), ('was', 'VBD'), ('laid', 'VBN'), ('at', 'IN'), ('the', 'DT'), ('dreaded', 'JJ'), ('door', 'NN'), ('of', 'IN'), ('these', 'DT'), ('two', 'CD'), ('.', '.'), ('Yet', 'CC'), ('through', 'IN'), ('the', 'DT'), ('dark', 'JJ'), ('natures', 'NNS'), ('of', 'IN'), ('the', 'DT'), ('father', 'NN'), ('and', 'CC'), ('son', 'NN'), ('ran', 'VBD'), ('one', 'CD'), ('redeeming', 'VBG'), ('ray', 'NN'), ('of', 'IN'), ('humanity', 'NN'), (';', ':'), ('the', 'DT'), ('evil', 'JJ'), ('old', 'JJ'), ('man', 'NN'), ('loved', 'VBD'), ('his', 'PRP$'), ('offspring', 'VBG'), ('with', 'IN'), ('fierce', 'JJ'), ('intensity', 'NN'), (',', ','), ('whilst', 'VBP'), ('the', 'DT'), ('youth', 'NN'), ('had', 'VBD'), ('for', 'IN'), ('his', 'PRP$'), ('parent', 'NN'), ('a', 'DT'), ('more', 'JJR'), ('than', 'IN'), ('filial', 'JJ'), ('affection', 'NN'), ('.', '.'), ('One', 'CD'), ('night', 'NN'), ('the', 'DT'), ('castle', 'NN'), ('on', 'IN'), ('the', 'DT'), ('hill', 'NN'), ('was', 'VBD'), ('thrown', 'VBN'), ('into', 'IN'), ('the', 'DT'), ('wildest', 'JJS'), ('confusion', 'NN'), ('by', 'IN'), ('the', 'DT'), ('vanishment', 'NN'), ('of', 'IN'), ('young', 'JJ'), ('Godfrey', 'NNP'), (',', ','), ('son', 'NN'), ('to', 'TO'), ('Henri', 'NNP'), (',', ','), ('the', 'DT'), ('Count', 'NNP'), ('.', '.'), ('A', 'NNP'), ('searching', 'VBG'), ('party', 'NN'), (',', ','), ('headed', 'VBN'), ('by', 'IN'), ('the', 'DT'), ('frantic', 'JJ'), ('father', 'NN'), (',', ','), ('invaded', 'VBD'), ('the', 'DT'), ('cottage', 'NN'), ('of', 'IN'), ('the', 'DT'), ('sorcerers', 'NNS'), ('and', 'CC'), ('there', 'EX'), ('came', 'VBD'), ('upon', 'IN'), ('old', 'JJ'), ('Michel', 'NNP'), ('Mauvais', 'NNP'), (',', ','), ('busy', 'JJ'), ('over', 'IN'), ('a', 'DT'), ('huge', 'JJ'), ('and', 'CC'), ('violently', 'RB'), ('boiling', 'VBG'), ('cauldron', 'NN'), ('.', '.'), ('Without', 'IN'), ('certain', 'JJ'), ('cause', 'NN'), (',', ','), ('in', 'IN'), ('the', 'DT'), ('ungoverned', 'JJ'), ('madness', 'NN'), ('of', 'IN'), ('fury', 'NN'), ('and', 'CC'), ('despair', 'NN'), (',', ','), ('the', 'DT'), ('Count', 'NNP'), ('laid', 'VBD'), ('hands', 'NNS'), ('on', 'IN'), ('the', 'DT'), ('aged', 'VBN'), ('wizard', 'NN'), (',', ','), ('and', 'CC'), ('ere', 'RB'), ('he', 'PRP'), ('released', 'VBD'), ('his', 'PRP$'), ('murderous', 'JJ'), ('hold', 'NN'), (',', ','), ('his', 'PRP$'), ('victim', 'NN'), ('was', 'VBD'), ('no', 'DT'), ('more', 'RBR'), ('.', '.'), ('Meanwhile', 'RB'), (',', ','), ('joyful', 'JJ'), ('servants', 'NNS'), ('were', 'VBD'), ('proclaiming', 'VBG'), ('the', 'DT'), ('finding', 'NN'), ('of', 'IN'), ('young', 'JJ'), ('Godfrey', 'NNP'), ('in', 'IN'), ('a', 'DT'), ('distant', 'JJ'), ('and', 'CC'), ('unused', 'JJ'), ('chamber', 'NN'), ('of', 'IN'), ('the', 'DT'), ('great', 'JJ'), ('edifice', 'NN'), (',', ','), ('telling', 'VBG'), ('too', 'RB'), ('late', 'JJ'), ('that', 'IN'), ('poor', 'JJ'), ('Michel', 'NNP'), ('had', 'VBD'), ('been', 'VBN'), ('killed', 'VBN'), ('in', 'IN'), ('vain', 'NN'), ('.', '.'), ('As', 'IN'), ('the', 'DT'), ('Count', 'NNP'), ('and', 'CC'), ('his', 'PRP$'), ('associates', 'NNS'), ('turned', 'VBD'), ('away', 'RB'), ('from', 'IN'), ('the', 'DT'), ('lowly', 'JJ'), ('abode', 'NN'), ('of', 'IN'), ('the', 'DT'), ('alchemist', 'NN'), (',', ','), ('the', 'DT'), ('form', 'NN'), ('of', 'IN'), ('Charles', 'NNP'), ('Le', 'NNP'), ('Sorcier', 'NNP'), ('appeared', 'VBD'), ('through', 'IN'), ('the', 'DT'), ('trees', 'NNS'), ('.', '.'), ('The', 'DT'), ('excited', 'JJ'), ('chatter', 'NN'), ('of', 'IN'), ('the', 'DT'), ('menials', 'NNS'), ('standing', 'VBG'), ('about', 'IN'), ('told', 'VBD'), ('him', 'PRP'), ('what', 'WP'), ('had', 'VBD'), ('occurred', 'VBN'), (',', ','), ('yet', 'RB'), ('he', 'PRP'), ('seemed', 'VBD'), ('at', 'IN'), ('first', 'JJ'), ('unmoved', 'JJ'), ('at', 'IN'), ('his', 'PRP$'), ('father', 'NN'), (\"'s\", 'POS'), ('fate', 'NN'), ('.', '.'), ('Then', 'RB'), (',', ','), ('slowly', 'RB'), ('advancing', 'VBG'), ('to', 'TO'), ('meet', 'VB'), ('the', 'DT'), ('Count', 'NNP'), (',', ','), ('he', 'PRP'), ('pronounced', 'VBD'), ('in', 'IN'), ('dull', 'NN'), ('yet', 'RB'), ('terrible', 'JJ'), ('accents', 'NNS'), ('the', 'DT'), ('curse', 'NN'), ('that', 'IN'), ('ever', 'RB'), ('afterward', 'RB'), ('haunted', 'VBD'), ('the', 'DT'), ('house', 'NN'), ('of', 'IN'), ('C-', 'NNP'), ('.', '.'), (\"'May\", 'MD'), (\"ne'er\", 'VB'), ('a', 'DT'), ('noble', 'JJ'), ('of', 'IN'), ('thy', 'JJ'), (\"murd'rous\", 'JJ'), ('line', 'NN'), ('Survive', 'NNP'), ('to', 'TO'), ('reach', 'VB'), ('a', 'DT'), ('greater', 'JJR'), ('age', 'NN'), ('than', 'IN'), ('thine', 'NN'), ('!', '.'), (\"'\", \"''\"), ('spake', 'NN'), ('he', 'PRP'), (',', ','), ('when', 'WRB'), (',', ','), ('suddenly', 'RB'), ('leaping', 'VBG'), ('backwards', 'NNS'), ('into', 'IN'), ('the', 'DT'), ('black', 'JJ'), ('woods', 'NNS'), (',', ','), ('he', 'PRP'), ('drew', 'VBD'), ('from', 'IN'), ('his', 'PRP$'), ('tunic', 'NN'), ('a', 'DT'), ('phial', 'NN'), ('of', 'IN'), ('colourless', 'NN'), ('liquid', 'NN'), ('which', 'WDT'), ('he', 'PRP'), ('threw', 'VBD'), ('into', 'IN'), ('the', 'DT'), ('face', 'NN'), ('of', 'IN'), ('his', 'PRP$'), ('father', 'NN'), (\"'s\", 'POS'), ('slayer', 'NN'), ('as', 'IN'), ('he', 'PRP'), ('disappeared', 'VBD'), ('behind', 'IN'), ('the', 'DT'), ('inky', 'JJ'), ('curtain', 'NN'), ('of', 'IN'), ('the', 'DT'), ('night', 'NN'), ('.', '.'), ('The', 'DT'), ('Count', 'NNP'), ('died', 'VBD'), ('without', 'IN'), ('utterance', 'NN'), (',', ','), ('and', 'CC'), ('was', 'VBD'), ('buried', 'VBN'), ('the', 'DT'), ('next', 'JJ'), ('day', 'NN'), (',', ','), ('but', 'CC'), ('little', 'RB'), ('more', 'JJR'), ('than', 'IN'), ('two', 'CD'), ('and', 'CC'), ('thirty', 'JJ'), ('years', 'NNS'), ('from', 'IN'), ('the', 'DT'), ('hour', 'NN'), ('of', 'IN'), ('his', 'PRP$'), ('birth', 'NN'), ('.', '.'), ('No', 'DT'), ('trace', 'NN'), ('of', 'IN'), ('the', 'DT'), ('assassin', 'NN'), ('could', 'MD'), ('be', 'VB'), ('found', 'VBN'), (',', ','), ('though', 'IN'), ('relentless', 'JJ'), ('bands', 'NNS'), ('of', 'IN'), ('peasants', 'NNS'), ('scoured', 'VBD'), ('the', 'DT'), ('neighboring', 'JJ'), ('woods', 'NNS'), ('and', 'CC'), ('the', 'DT'), ('meadowland', 'NN'), ('around', 'IN'), ('the', 'DT'), ('hill', 'NN'), ('.', '.'), ('Thus', 'JJ'), ('time', 'NN'), ('and', 'CC'), ('the', 'DT'), ('want', 'NN'), ('of', 'IN'), ('a', 'DT'), ('reminder', 'NN'), ('dulled', 'VBD'), ('the', 'DT'), ('memory', 'NN'), ('of', 'IN'), ('the', 'DT'), ('curse', 'NN'), ('in', 'IN'), ('the', 'DT'), ('minds', 'NNS'), ('of', 'IN'), ('the', 'DT'), ('late', 'JJ'), ('Count', 'NNP'), (\"'s\", 'POS'), ('family', 'NN'), (',', ','), ('so', 'RB'), ('that', 'IN'), ('when', 'WRB'), ('Godfrey', 'NNP'), (',', ','), ('innocent', 'JJ'), ('cause', 'NN'), ('of', 'IN'), ('the', 'DT'), ('whole', 'JJ'), ('tragedy', 'NN'), ('and', 'CC'), ('now', 'RB'), ('bearing', 'VBG'), ('the', 'DT'), ('title', 'NN'), (',', ','), ('was', 'VBD'), ('killed', 'VBN'), ('by', 'IN'), ('an', 'DT'), ('arrow', 'NN'), ('whilst', 'NN'), ('hunting', 'VBG'), ('at', 'IN'), ('the', 'DT'), ('age', 'NN'), ('of', 'IN'), ('thirty-two', 'NN'), (',', ','), ('there', 'EX'), ('were', 'VBD'), ('no', 'DT'), ('thoughts', 'NNS'), ('save', 'VBP'), ('those', 'DT'), ('of', 'IN'), ('grief', 'NN'), ('at', 'IN'), ('his', 'PRP$'), ('demise', 'NN'), ('.', '.'), ('But', 'CC'), ('when', 'WRB'), (',', ','), ('years', 'NNS'), ('afterward', 'RB'), (',', ','), ('the', 'DT'), ('next', 'JJ'), ('young', 'JJ'), ('Count', 'NNP'), (',', ','), ('Robert', 'NNP'), ('by', 'IN'), ('name', 'NN'), (',', ','), ('was', 'VBD'), ('found', 'VBN'), ('dead', 'JJ'), ('in', 'IN'), ('a', 'DT'), ('nearby', 'JJ'), ('field', 'NN'), ('of', 'IN'), ('no', 'DT'), ('apparent', 'JJ'), ('cause', 'NN'), (',', ','), ('the', 'DT'), ('peasants', 'NNS'), ('told', 'VBD'), ('in', 'IN'), ('whispers', 'NNS'), ('that', 'IN'), ('their', 'PRP$'), ('seigneur', 'NN'), ('had', 'VBD'), ('but', 'CC'), ('lately', 'RB'), ('passed', 'VBD'), ('his', 'PRP$'), ('thirty-second', 'NN'), ('birthday', 'NN'), ('when', 'WRB'), ('surprised', 'VBN'), ('by', 'IN'), ('early', 'JJ'), ('death', 'NN'), ('.', '.'), ('Louis', 'NNP'), (',', ','), ('son', 'NN'), ('to', 'TO'), ('Robert', 'NNP'), (',', ','), ('was', 'VBD'), ('found', 'VBN'), ('drowned', 'VBN'), ('in', 'IN'), ('the', 'DT'), ('moat', 'NN'), ('at', 'IN'), ('the', 'DT'), ('same', 'JJ'), ('fateful', 'JJ'), ('age', 'NN'), (',', ','), ('and', 'CC'), ('thus', 'RB'), ('down', 'RB'), ('through', 'IN'), ('the', 'DT'), ('centuries', 'NNS'), ('ran', 'VBD'), ('the', 'DT'), ('ominous', 'JJ'), ('chronicle', 'NN'), (':', ':'), ('Henris', 'NNP'), (',', ','), ('Roberts', 'NNP'), (',', ','), ('Antoines', 'NNP'), (',', ','), ('and', 'CC'), ('Armands', 'NNP'), ('snatched', 'VBD'), ('from', 'IN'), ('happy', 'JJ'), ('and', 'CC'), ('virtuous', 'JJ'), ('lives', 'NNS'), ('when', 'WRB'), ('little', 'JJ'), ('below', 'IN'), ('the', 'DT'), ('age', 'NN'), ('of', 'IN'), ('their', 'PRP$'), ('unfortunate', 'JJ'), ('ancestor', 'NN'), ('at', 'IN'), ('his', 'PRP$'), ('murder', 'NN'), ('.', '.'), ('That', 'IN'), ('I', 'PRP'), ('had', 'VBD'), ('left', 'VBN'), ('at', 'IN'), ('most', 'JJS'), ('but', 'CC'), ('eleven', 'JJ'), ('years', 'NNS'), ('of', 'IN'), ('further', 'JJ'), ('existence', 'NN'), ('was', 'VBD'), ('made', 'VBN'), ('certain', 'JJ'), ('to', 'TO'), ('me', 'PRP'), ('by', 'IN'), ('the', 'DT'), ('words', 'NNS'), ('which', 'WDT'), ('I', 'PRP'), ('had', 'VBD'), ('read', 'VBN'), ('.', '.'), ('My', 'NNP'), ('life', 'NN'), (',', ','), ('previously', 'RB'), ('held', 'VBN'), ('at', 'IN'), ('small', 'JJ'), ('value', 'NN'), (',', ','), ('now', 'RB'), ('became', 'VBD'), ('dearer', 'NN'), ('to', 'TO'), ('me', 'PRP'), ('each', 'DT'), ('day', 'NN'), (',', ','), ('as', 'IN'), ('I', 'PRP'), ('delved', 'VBD'), ('deeper', 'NN'), ('and', 'CC'), ('deeper', 'NN'), ('into', 'IN'), ('the', 'DT'), ('mysteries', 'NNS'), ('of', 'IN'), ('the', 'DT'), ('hidden', 'JJ'), ('world', 'NN'), ('of', 'IN'), ('black', 'JJ'), ('magic', 'NN'), ('.', '.'), ('Isolated', 'VBN'), ('as', 'IN'), ('I', 'PRP'), ('was', 'VBD'), (',', ','), ('modern', 'JJ'), ('science', 'NN'), ('had', 'VBD'), ('produced', 'VBN'), ('no', 'DT'), ('impression', 'NN'), ('upon', 'IN'), ('me', 'PRP'), (',', ','), ('and', 'CC'), ('I', 'PRP'), ('laboured', 'VBD'), ('as', 'IN'), ('in', 'IN'), ('the', 'DT'), ('Middle', 'NNP'), ('Ages', 'NNP'), (',', ','), ('as', 'RB'), ('wrapt', 'NN'), ('as', 'IN'), ('had', 'VBD'), ('been', 'VBN'), ('old', 'JJ'), ('Michel', 'NNP'), ('and', 'CC'), ('young', 'JJ'), ('Charles', 'NNP'), ('themselves', 'PRP'), ('in', 'IN'), ('the', 'DT'), ('acquisition', 'NN'), ('of', 'IN'), ('demonological', 'JJ'), ('and', 'CC'), ('alchemical', 'JJ'), ('learning', 'NN'), ('.', '.'), ('Yet', 'CC'), ('read', 'JJ'), ('as', 'IN'), ('I', 'PRP'), ('might', 'MD'), (',', ','), ('in', 'IN'), ('no', 'DT'), ('manner', 'NN'), ('could', 'MD'), ('I', 'PRP'), ('account', 'VBP'), ('for', 'IN'), ('the', 'DT'), ('strange', 'JJ'), ('curse', 'NN'), ('upon', 'IN'), ('my', 'PRP$'), ('line', 'NN'), ('.', '.'), ('In', 'IN'), ('unusually', 'RB'), ('rational', 'JJ'), ('moments', 'NNS'), ('I', 'PRP'), ('would', 'MD'), ('even', 'RB'), ('go', 'VB'), ('so', 'RB'), ('far', 'RB'), ('as', 'IN'), ('to', 'TO'), ('seek', 'VB'), ('a', 'DT'), ('natural', 'JJ'), ('explanation', 'NN'), (',', ','), ('attributing', 'VBG'), ('the', 'DT'), ('early', 'JJ'), ('deaths', 'NNS'), ('of', 'IN'), ('my', 'PRP$'), ('ancestors', 'NNS'), ('to', 'TO'), ('the', 'DT'), ('sinister', 'NN'), ('Charles', 'NNP'), ('Le', 'NNP'), ('Sorcier', 'NNP'), ('and', 'CC'), ('his', 'PRP$'), ('heirs', 'NN'), (';', ':'), ('yet', 'RB'), (',', ','), ('having', 'VBG'), ('found', 'VBN'), ('upon', 'IN'), ('careful', 'JJ'), ('inquiry', 'NN'), ('that', 'IN'), ('there', 'EX'), ('were', 'VBD'), ('no', 'DT'), ('known', 'JJ'), ('descendants', 'NNS'), ('of', 'IN'), ('the', 'DT'), ('alchemist', 'NN'), (',', ','), ('I', 'PRP'), ('would', 'MD'), ('fall', 'VB'), ('back', 'RB'), ('to', 'TO'), ('occult', 'NN'), ('studies', 'NNS'), (',', ','), ('and', 'CC'), ('once', 'RB'), ('more', 'JJR'), ('endeavor', 'NN'), ('to', 'TO'), ('find', 'VB'), ('a', 'DT'), ('spell', 'NN'), (',', ','), ('that', 'WDT'), ('would', 'MD'), ('release', 'VB'), ('my', 'PRP$'), ('house', 'NN'), ('from', 'IN'), ('its', 'PRP$'), ('terrible', 'JJ'), ('burden', 'NN'), ('.', '.'), ('Upon', 'IN'), ('one', 'CD'), ('thing', 'NN'), ('I', 'PRP'), ('was', 'VBD'), ('absolutely', 'RB'), ('resolved', 'VBN'), ('.', '.'), ('I', 'PRP'), ('should', 'MD'), ('never', 'RB'), ('wed', 'VB'), (',', ','), ('for', 'IN'), (',', ','), ('since', 'IN'), ('no', 'DT'), ('other', 'JJ'), ('branch', 'NN'), ('of', 'IN'), ('my', 'PRP$'), ('family', 'NN'), ('was', 'VBD'), ('in', 'IN'), ('existence', 'NN'), (',', ','), ('I', 'PRP'), ('might', 'MD'), ('thus', 'RB'), ('end', 'VB'), ('the', 'DT'), ('curse', 'NN'), ('with', 'IN'), ('myself', 'PRP'), ('.', '.'), ('As', 'IN'), ('I', 'PRP'), ('drew', 'VBD'), ('near', 'IN'), ('the', 'DT'), ('age', 'NN'), ('of', 'IN'), ('thirty', 'NN'), (',', ','), ('old', 'JJ'), ('Pierre', 'NNP'), ('was', 'VBD'), ('called', 'VBN'), ('to', 'TO'), ('the', 'DT'), ('land', 'NN'), ('beyond', 'IN'), ('.', '.'), ('Alone', 'NNP'), ('I', 'PRP'), ('buried', 'VBD'), ('him', 'PRP'), ('beneath', 'VB'), ('the', 'DT'), ('stones', 'NNS'), ('of', 'IN'), ('the', 'DT'), ('courtyard', 'NN'), ('about', 'IN'), ('which', 'WDT'), ('he', 'PRP'), ('had', 'VBD'), ('loved', 'VBN'), ('to', 'TO'), ('wander', 'VB'), ('in', 'IN'), ('life', 'NN'), ('.', '.'), ('Thus', 'NNP'), ('was', 'VBD'), ('I', 'PRP'), ('left', 'VBD'), ('to', 'TO'), ('ponder', 'VB'), ('on', 'IN'), ('myself', 'PRP'), ('as', 'IN'), ('the', 'DT'), ('only', 'JJ'), ('human', 'JJ'), ('creature', 'NN'), ('within', 'IN'), ('the', 'DT'), ('great', 'JJ'), ('fortress', 'NN'), (',', ','), ('and', 'CC'), ('in', 'IN'), ('my', 'PRP$'), ('utter', 'JJ'), ('solitude', 'NN'), ('my', 'PRP$'), ('mind', 'NN'), ('began', 'VBD'), ('to', 'TO'), ('cease', 'VB'), ('its', 'PRP$'), ('vain', 'NN'), ('protest', 'NN'), ('against', 'IN'), ('the', 'DT'), ('impending', 'JJ'), ('doom', 'NN'), (',', ','), ('to', 'TO'), ('become', 'VB'), ('almost', 'RB'), ('reconciled', 'VBN'), ('to', 'TO'), ('the', 'DT'), ('fate', 'NN'), ('which', 'WDT'), ('so', 'RB'), ('many', 'JJ'), ('of', 'IN'), ('my', 'PRP$'), ('ancestors', 'NNS'), ('had', 'VBD'), ('met', 'VBN'), ('.', '.'), ('Much', 'RB'), ('of', 'IN'), ('my', 'PRP$'), ('time', 'NN'), ('was', 'VBD'), ('now', 'RB'), ('occupied', 'VBN'), ('in', 'IN'), ('the', 'DT'), ('exploration', 'NN'), ('of', 'IN'), ('the', 'DT'), ('ruined', 'VBN'), ('and', 'CC'), ('abandoned', 'VBN'), ('halls', 'NNS'), ('and', 'CC'), ('towers', 'NNS'), ('of', 'IN'), ('the', 'DT'), ('old', 'JJ'), ('chateau', 'NN'), (',', ','), ('which', 'WDT'), ('in', 'IN'), ('youth', 'NN'), ('fear', 'NN'), ('had', 'VBD'), ('caused', 'VBN'), ('me', 'PRP'), ('to', 'TO'), ('shun', 'VB'), (',', ','), ('and', 'CC'), ('some', 'DT'), ('of', 'IN'), ('which', 'WDT'), ('old', 'JJ'), ('Pierre', 'NNP'), ('had', 'VBD'), ('once', 'RB'), ('told', 'VBN'), ('me', 'PRP'), ('had', 'VBD'), ('not', 'RB'), ('been', 'VBN'), ('trodden', 'VBN'), ('by', 'IN'), ('human', 'JJ'), ('foot', 'NN'), ('for', 'IN'), ('over', 'IN'), ('four', 'CD'), ('centuries', 'NNS'), ('.', '.'), ('Strange', 'NNP'), ('and', 'CC'), ('awesome', 'VB'), ('were', 'VBD'), ('many', 'JJ'), ('of', 'IN'), ('the', 'DT'), ('objects', 'NNS'), ('I', 'PRP'), ('encountered', 'VBD'), ('.', '.'), ('Furniture', 'NN'), (',', ','), ('covered', 'VBN'), ('by', 'IN'), ('the', 'DT'), ('dust', 'NN'), ('of', 'IN'), ('ages', 'NNS'), ('and', 'CC'), ('crumbling', 'VBG'), ('with', 'IN'), ('the', 'DT'), ('rot', 'NN'), ('of', 'IN'), ('long', 'JJ'), ('dampness', 'NN'), (',', ','), ('met', 'VBD'), ('my', 'PRP$'), ('eyes', 'NNS'), ('.', '.'), ('Cobwebs', 'NNP'), ('in', 'IN'), ('a', 'DT'), ('profusion', 'NN'), ('never', 'RB'), ('before', 'RB'), ('seen', 'VBN'), ('by', 'IN'), ('me', 'PRP'), ('were', 'VBD'), ('spun', 'VBN'), ('everywhere', 'RB'), (',', ','), ('and', 'CC'), ('huge', 'JJ'), ('bats', 'NNS'), ('flapped', 'VBD'), ('their', 'PRP$'), ('bony', 'NN'), ('and', 'CC'), ('uncanny', 'JJ'), ('wings', 'NNS'), ('on', 'IN'), ('all', 'DT'), ('sides', 'NNS'), ('of', 'IN'), ('the', 'DT'), ('otherwise', 'RB'), ('untenanted', 'JJ'), ('gloom', 'NN'), ('.', '.'), ('Of', 'IN'), ('my', 'PRP$'), ('exact', 'JJ'), ('age', 'NN'), (',', ','), ('even', 'RB'), ('down', 'RP'), ('to', 'TO'), ('days', 'NNS'), ('and', 'CC'), ('hours', 'NNS'), (',', ','), ('I', 'PRP'), ('kept', 'VBD'), ('a', 'DT'), ('most', 'RBS'), ('careful', 'JJ'), ('record', 'NN'), (',', ','), ('for', 'IN'), ('each', 'DT'), ('movement', 'NN'), ('of', 'IN'), ('the', 'DT'), ('pendulum', 'NN'), ('of', 'IN'), ('the', 'DT'), ('massive', 'JJ'), ('clock', 'NN'), ('in', 'IN'), ('the', 'DT'), ('library', 'JJ'), ('told', 'VBD'), ('off', 'RP'), ('so', 'RB'), ('much', 'RB'), ('of', 'IN'), ('my', 'PRP$'), ('doomed', 'JJ'), ('existence', 'NN'), ('.', '.'), ('At', 'IN'), ('length', 'NN'), ('I', 'PRP'), ('approached', 'VBD'), ('that', 'IN'), ('time', 'NN'), ('which', 'WDT'), ('I', 'PRP'), ('had', 'VBD'), ('so', 'RB'), ('long', 'JJ'), ('viewed', 'NN'), ('with', 'IN'), ('apprehension', 'NN'), ('.', '.'), ('Since', 'IN'), ('most', 'JJS'), ('of', 'IN'), ('my', 'PRP$'), ('ancestors', 'NNS'), ('had', 'VBD'), ('been', 'VBN'), ('seized', 'VBN'), ('some', 'DT'), ('little', 'JJ'), ('while', 'IN'), ('before', 'IN'), ('they', 'PRP'), ('reached', 'VBD'), ('the', 'DT'), ('exact', 'JJ'), ('age', 'NN'), ('of', 'IN'), ('Count', 'NNP'), ('Henri', 'NNP'), ('at', 'IN'), ('his', 'PRP$'), ('end', 'NN'), (',', ','), ('I', 'PRP'), ('was', 'VBD'), ('every', 'DT'), ('moment', 'NN'), ('on', 'IN'), ('the', 'DT'), ('watch', 'NN'), ('for', 'IN'), ('the', 'DT'), ('coming', 'VBG'), ('of', 'IN'), ('the', 'DT'), ('unknown', 'JJ'), ('death', 'NN'), ('.', '.'), ('In', 'IN'), ('what', 'WP'), ('strange', 'JJ'), ('form', 'VBP'), ('the', 'DT'), ('curse', 'NN'), ('should', 'MD'), ('overtake', 'VB'), ('me', 'PRP'), (',', ','), ('I', 'PRP'), ('knew', 'VBD'), ('not', 'RB'), (';', ':'), ('but', 'CC'), ('I', 'PRP'), ('was', 'VBD'), ('resolved', 'VBN'), ('at', 'IN'), ('least', 'JJS'), ('that', 'IN'), ('it', 'PRP'), ('should', 'MD'), ('not', 'RB'), ('find', 'VB'), ('me', 'PRP'), ('a', 'DT'), ('cowardly', 'RB'), ('or', 'CC'), ('a', 'DT'), ('passive', 'JJ'), ('victim', 'NN'), ('.', '.'), ('With', 'IN'), ('new', 'JJ'), ('vigour', 'NN'), ('I', 'PRP'), ('applied', 'VBD'), ('myself', 'PRP'), ('to', 'TO'), ('my', 'PRP$'), ('examination', 'NN'), ('of', 'IN'), ('the', 'DT'), ('old', 'JJ'), ('chateau', 'NN'), ('and', 'CC'), ('its', 'PRP$'), ('contents', 'NNS'), ('.', '.'), ('It', 'PRP'), ('was', 'VBD'), ('upon', 'IN'), ('one', 'CD'), ('of', 'IN'), ('the', 'DT'), ('longest', 'JJS'), ('of', 'IN'), ('all', 'DT'), ('my', 'PRP$'), ('excursions', 'NNS'), ('of', 'IN'), ('discovery', 'NN'), ('in', 'IN'), ('the', 'DT'), ('deserted', 'JJ'), ('portion', 'NN'), ('of', 'IN'), ('the', 'DT'), ('castle', 'NN'), (',', ','), ('less', 'JJR'), ('than', 'IN'), ('a', 'DT'), ('week', 'NN'), ('before', 'IN'), ('that', 'DT'), ('fatal', 'JJ'), ('hour', 'NN'), ('which', 'WDT'), ('I', 'PRP'), ('felt', 'VBD'), ('must', 'MD'), ('mark', 'VB'), ('the', 'DT'), ('utmost', 'JJ'), ('limit', 'NN'), ('of', 'IN'), ('my', 'PRP$'), ('stay', 'NN'), ('on', 'IN'), ('earth', 'NN'), (',', ','), ('beyond', 'IN'), ('which', 'WDT'), ('I', 'PRP'), ('could', 'MD'), ('have', 'VB'), ('not', 'RB'), ('even', 'RB'), ('the', 'DT'), ('slightest', 'JJS'), ('hope', 'NN'), ('of', 'IN'), ('continuing', 'VBG'), ('to', 'TO'), ('draw', 'VB'), ('breath', 'NN'), ('that', 'IN'), ('I', 'PRP'), ('came', 'VBD'), ('upon', 'IN'), ('the', 'DT'), ('culminating', 'VBG'), ('event', 'NN'), ('of', 'IN'), ('my', 'PRP$'), ('whole', 'JJ'), ('life', 'NN'), ('.', '.'), ('I', 'PRP'), ('had', 'VBD'), ('spent', 'VBN'), ('the', 'DT'), ('better', 'JJR'), ('part', 'NN'), ('of', 'IN'), ('the', 'DT'), ('morning', 'NN'), ('in', 'IN'), ('climbing', 'VBG'), ('up', 'RP'), ('and', 'CC'), ('down', 'IN'), ('half', 'NN'), ('ruined', 'JJ'), ('staircases', 'NNS'), ('in', 'IN'), ('one', 'CD'), ('of', 'IN'), ('the', 'DT'), ('most', 'RBS'), ('dilapidated', 'JJ'), ('of', 'IN'), ('the', 'DT'), ('ancient', 'JJ'), ('turrets', 'NNS'), ('.', '.'), ('As', 'IN'), ('the', 'DT'), ('afternoon', 'NN'), ('progressed', 'VBD'), (',', ','), ('I', 'PRP'), ('sought', 'VBD'), ('the', 'DT'), ('lower', 'JJR'), ('levels', 'NNS'), (',', ','), ('descending', 'VBG'), ('into', 'IN'), ('what', 'WP'), ('appeared', 'VBD'), ('to', 'TO'), ('be', 'VB'), ('either', 'RB'), ('a', 'DT'), ('mediaeval', 'JJ'), ('place', 'NN'), ('of', 'IN'), ('confinement', 'NN'), (',', ','), ('or', 'CC'), ('a', 'DT'), ('more', 'RBR'), ('recently', 'RB'), ('excavated', 'VBN'), ('storehouse', 'NN'), ('for', 'IN'), ('gunpowder', 'NN'), ('.', '.'), ('As', 'IN'), ('I', 'PRP'), ('slowly', 'VBP'), ('traversed', 'VBD'), ('the', 'DT'), ('nitre-encrusted', 'JJ'), ('passageway', 'NN'), ('at', 'IN'), ('the', 'DT'), ('foot', 'NN'), ('of', 'IN'), ('the', 'DT'), ('last', 'JJ'), ('staircase', 'NN'), (',', ','), ('the', 'DT'), ('paving', 'NN'), ('became', 'VBD'), ('very', 'RB'), ('damp', 'JJ'), (',', ','), ('and', 'CC'), ('soon', 'RB'), ('I', 'PRP'), ('saw', 'VBD'), ('by', 'IN'), ('the', 'DT'), ('light', 'NN'), ('of', 'IN'), ('my', 'PRP$'), ('flickering', 'NN'), ('torch', 'NN'), ('that', 'IN'), ('a', 'DT'), ('blank', 'NN'), (',', ','), ('water-stained', 'JJ'), ('wall', 'NN'), ('impeded', 'VBD'), ('my', 'PRP$'), ('journey', 'NN'), ('.', '.'), ('Turning', 'VBG'), ('to', 'TO'), ('retrace', 'VB'), ('my', 'PRP$'), ('steps', 'NNS'), (',', ','), ('my', 'PRP$'), ('eye', 'NN'), ('fell', 'VBD'), ('upon', 'IN'), ('a', 'DT'), ('small', 'JJ'), ('trapdoor', 'NN'), ('with', 'IN'), ('a', 'DT'), ('ring', 'NN'), (',', ','), ('which', 'WDT'), ('lay', 'VBD'), ('directly', 'RB'), ('beneath', 'IN'), ('my', 'PRP$'), ('foot', 'NN'), ('.', '.'), ('Pausing', 'NNP'), (',', ','), ('I', 'PRP'), ('succeeded', 'VBD'), ('with', 'IN'), ('difficulty', 'NN'), ('in', 'IN'), ('raising', 'VBG'), ('it', 'PRP'), (',', ','), ('whereupon', 'IN'), ('there', 'EX'), ('was', 'VBD'), ('revealed', 'VBN'), ('a', 'DT'), ('black', 'JJ'), ('aperture', 'NN'), (',', ','), ('exhaling', 'VBG'), ('noxious', 'JJ'), ('fumes', 'NNS'), ('which', 'WDT'), ('caused', 'VBD'), ('my', 'PRP$'), ('torch', 'NN'), ('to', 'TO'), ('sputter', 'VB'), (',', ','), ('and', 'CC'), ('disclosing', 'VBG'), ('in', 'IN'), ('the', 'DT'), ('unsteady', 'JJ'), ('glare', 'NN'), ('the', 'DT'), ('top', 'NN'), ('of', 'IN'), ('a', 'DT'), ('flight', 'NN'), ('of', 'IN'), ('stone', 'NN'), ('steps', 'NNS'), ('.', '.'), ('As', 'RB'), ('soon', 'RB'), ('as', 'IN'), ('the', 'DT'), ('torch', 'NN'), ('which', 'WDT'), ('I', 'PRP'), ('lowered', 'VBD'), ('into', 'IN'), ('the', 'DT'), ('repellent', 'JJ'), ('depths', 'NNS'), ('burned', 'VBN'), ('freely', 'RB'), ('and', 'CC'), ('steadily', 'RB'), (',', ','), ('I', 'PRP'), ('commenced', 'VBD'), ('my', 'PRP$'), ('descent', 'NN'), ('.', '.'), ('The', 'DT'), ('steps', 'NNS'), ('were', 'VBD'), ('many', 'JJ'), (',', ','), ('and', 'CC'), ('led', 'VBD'), ('to', 'TO'), ('a', 'DT'), ('narrow', 'JJ'), ('stone-flagged', 'JJ'), ('passage', 'NN'), ('which', 'WDT'), ('I', 'PRP'), ('knew', 'VBD'), ('must', 'MD'), ('be', 'VB'), ('far', 'RB'), ('underground', 'JJ'), ('.', '.'), ('This', 'DT'), ('passage', 'NN'), ('proved', 'VBD'), ('of', 'IN'), ('great', 'JJ'), ('length', 'NN'), (',', ','), ('and', 'CC'), ('terminated', 'VBN'), ('in', 'IN'), ('a', 'DT'), ('massive', 'JJ'), ('oaken', 'NN'), ('door', 'NN'), (',', ','), ('dripping', 'VBG'), ('with', 'IN'), ('the', 'DT'), ('moisture', 'NN'), ('of', 'IN'), ('the', 'DT'), ('place', 'NN'), (',', ','), ('and', 'CC'), ('stoutly', 'RB'), ('resisting', 'VBG'), ('all', 'DT'), ('my', 'PRP$'), ('attempts', 'NNS'), ('to', 'TO'), ('open', 'VB'), ('it', 'PRP'), ('.', '.'), ('Ceasing', 'VBG'), ('after', 'IN'), ('a', 'DT'), ('time', 'NN'), ('my', 'PRP$'), ('efforts', 'NNS'), ('in', 'IN'), ('this', 'DT'), ('direction', 'NN'), (',', ','), ('I', 'PRP'), ('had', 'VBD'), ('proceeded', 'VBN'), ('back', 'RB'), ('some', 'DT'), ('distance', 'NN'), ('toward', 'IN'), ('the', 'DT'), ('steps', 'NNS'), ('when', 'WRB'), ('there', 'EX'), ('suddenly', 'RB'), ('fell', 'VBD'), ('to', 'TO'), ('my', 'PRP$'), ('experience', 'NN'), ('one', 'CD'), ('of', 'IN'), ('the', 'DT'), ('most', 'RBS'), ('profound', 'JJ'), ('and', 'CC'), ('maddening', 'VBG'), ('shocks', 'NNS'), ('capable', 'JJ'), ('of', 'IN'), ('reception', 'NN'), ('by', 'IN'), ('the', 'DT'), ('human', 'JJ'), ('mind', 'NN'), ('.', '.'), ('Without', 'IN'), ('warning', 'VBG'), (',', ','), ('I', 'PRP'), ('heard', 'VBD'), ('the', 'DT'), ('heavy', 'JJ'), ('door', 'NN'), ('behind', 'IN'), ('me', 'PRP'), ('creak', 'VBP'), ('slowly', 'RB'), ('open', 'JJ'), ('upon', 'IN'), ('its', 'PRP$'), ('rusted', 'JJ'), ('hinges', 'NNS'), ('.', '.'), ('My', 'PRP$'), ('immediate', 'JJ'), ('sensations', 'NNS'), ('were', 'VBD'), ('incapable', 'JJ'), ('of', 'IN'), ('analysis', 'NN'), ('.', '.'), ('To', 'TO'), ('be', 'VB'), ('confronted', 'VBN'), ('in', 'IN'), ('a', 'DT'), ('place', 'NN'), ('as', 'IN'), ('thoroughly', 'RB'), ('deserted', 'VBN'), ('as', 'IN'), ('I', 'PRP'), ('had', 'VBD'), ('deemed', 'VBN'), ('the', 'DT'), ('old', 'JJ'), ('castle', 'NN'), ('with', 'IN'), ('evidence', 'NN'), ('of', 'IN'), ('the', 'DT'), ('presence', 'NN'), ('of', 'IN'), ('man', 'NN'), ('or', 'CC'), ('spirit', 'NN'), ('produced', 'VBN'), ('in', 'IN'), ('my', 'PRP$'), ('brain', 'NN'), ('a', 'DT'), ('horror', 'NN'), ('of', 'IN'), ('the', 'DT'), ('most', 'RBS'), ('acute', 'JJ'), ('description', 'NN'), ('.', '.'), ('When', 'WRB'), ('at', 'IN'), ('last', 'JJ'), ('I', 'PRP'), ('turned', 'VBD'), ('and', 'CC'), ('faced', 'VBD'), ('the', 'DT'), ('seat', 'NN'), ('of', 'IN'), ('the', 'DT'), ('sound', 'NN'), (',', ','), ('my', 'PRP$'), ('eyes', 'NNS'), ('must', 'MD'), ('have', 'VB'), ('started', 'VBN'), ('from', 'IN'), ('their', 'PRP$'), ('orbits', 'NNS'), ('at', 'IN'), ('the', 'DT'), ('sight', 'NN'), ('that', 'IN'), ('they', 'PRP'), ('beheld', 'VBP'), ('.', '.'), ('There', 'EX'), ('in', 'IN'), ('the', 'DT'), ('ancient', 'JJ'), ('Gothic', 'NNP'), ('doorway', 'NN'), ('stood', 'VBD'), ('a', 'DT'), ('human', 'JJ'), ('figure', 'NN'), ('.', '.'), ('It', 'PRP'), ('was', 'VBD'), ('that', 'IN'), ('of', 'IN'), ('a', 'DT'), ('man', 'NN'), ('clad', 'NN'), ('in', 'IN'), ('a', 'DT'), ('skull-cap', 'JJ'), ('and', 'CC'), ('long', 'JJ'), ('mediaeval', 'NN'), ('tunic', 'NN'), ('of', 'IN'), ('dark', 'JJ'), ('colour', 'NN'), ('.', '.'), ('His', 'PRP$'), ('long', 'JJ'), ('hair', 'NN'), ('and', 'CC'), ('flowing', 'VBG'), ('beard', 'NN'), ('were', 'VBD'), ('of', 'IN'), ('a', 'DT'), ('terrible', 'JJ'), ('and', 'CC'), ('intense', 'JJ'), ('black', 'JJ'), ('hue', 'NN'), (',', ','), ('and', 'CC'), ('of', 'IN'), ('incredible', 'JJ'), ('profusion', 'NN'), ('.', '.'), ('His', 'PRP$'), ('forehead', 'NN'), (',', ','), ('high', 'JJ'), ('beyond', 'IN'), ('the', 'DT'), ('usual', 'JJ'), ('dimensions', 'NNS'), (';', ':'), ('his', 'PRP$'), ('cheeks', 'NN'), (',', ','), ('deep-', 'JJ'), ('sunken', 'NN'), ('and', 'CC'), ('heavily', 'RB'), ('lined', 'VBN'), ('with', 'IN'), ('wrinkles', 'NNS'), (';', ':'), ('and', 'CC'), ('his', 'PRP$'), ('hands', 'NNS'), (',', ','), ('long', 'RB'), (',', ','), ('claw-like', 'NN'), (',', ','), ('and', 'CC'), ('gnarled', 'VBD'), (',', ','), ('were', 'VBD'), ('of', 'IN'), ('such', 'JJ'), ('a', 'DT'), ('deadly', 'JJ'), ('marble-like', 'JJ'), ('whiteness', 'NN'), ('as', 'IN'), ('I', 'PRP'), ('have', 'VBP'), ('never', 'RB'), ('elsewhere', 'RB'), ('seen', 'VBN'), ('in', 'IN'), ('man', 'NN'), ('.', '.'), ('His', 'PRP$'), ('figure', 'NN'), (',', ','), ('lean', 'NN'), ('to', 'TO'), ('the', 'DT'), ('proportions', 'NNS'), ('of', 'IN'), ('a', 'DT'), ('skeleton', 'NN'), (',', ','), ('was', 'VBD'), ('strangely', 'RB'), ('bent', 'JJ'), ('and', 'CC'), ('almost', 'RB'), ('lost', 'VBN'), ('within', 'IN'), ('the', 'DT'), ('voluminous', 'JJ'), ('folds', 'NNS'), ('of', 'IN'), ('his', 'PRP$'), ('peculiar', 'JJ'), ('garment', 'NN'), ('.', '.'), ('But', 'CC'), ('strangest', 'JJS'), ('of', 'IN'), ('all', 'DT'), ('were', 'VBD'), ('his', 'PRP$'), ('eyes', 'NNS'), (',', ','), ('twin', 'VBP'), ('caves', 'NNS'), ('of', 'IN'), ('abysmal', 'JJ'), ('blackness', 'NN'), (',', ','), ('profound', 'NN'), ('in', 'IN'), ('expression', 'NN'), ('of', 'IN'), ('understanding', 'NN'), (',', ','), ('yet', 'RB'), ('inhuman', 'VBN'), ('in', 'IN'), ('degree', 'NN'), ('of', 'IN'), ('wickedness', 'NN'), ('.', '.'), ('These', 'DT'), ('were', 'VBD'), ('now', 'RB'), ('fixed', 'VBN'), ('upon', 'IN'), ('me', 'PRP'), (',', ','), ('piercing', 'VBG'), ('my', 'PRP$'), ('soul', 'NN'), ('with', 'IN'), ('their', 'PRP$'), ('hatred', 'VBN'), (',', ','), ('and', 'CC'), ('rooting', 'VBG'), ('me', 'PRP'), ('to', 'TO'), ('the', 'DT'), ('spot', 'NN'), ('whereon', 'NN'), ('I', 'PRP'), ('stood', 'VBD'), ('.', '.'), ('At', 'IN'), ('last', 'JJ'), ('the', 'DT'), ('figure', 'NN'), ('spoke', 'VBD'), ('in', 'IN'), ('a', 'DT'), ('rumbling', 'JJ'), ('voice', 'NN'), ('that', 'WDT'), ('chilled', 'VBD'), ('me', 'PRP'), ('through', 'IN'), ('with', 'IN'), ('its', 'PRP$'), ('dull', 'NN'), ('hollowness', 'NN'), ('and', 'CC'), ('latent', 'JJ'), ('malevolence', 'NN'), ('.', '.'), ('The', 'DT'), ('language', 'NN'), ('in', 'IN'), ('which', 'WDT'), ('the', 'DT'), ('discourse', 'NN'), ('was', 'VBD'), ('clothed', 'VBN'), ('was', 'VBD'), ('that', 'IN'), ('debased', 'JJ'), ('form', 'NN'), ('of', 'IN'), ('Latin', 'NNP'), ('in', 'IN'), ('use', 'NN'), ('amongst', 'IN'), ('the', 'DT'), ('more', 'RBR'), ('learned', 'JJ'), ('men', 'NNS'), ('of', 'IN'), ('the', 'DT'), ('Middle', 'NNP'), ('Ages', 'NNP'), (',', ','), ('and', 'CC'), ('made', 'VBD'), ('familiar', 'JJ'), ('to', 'TO'), ('me', 'PRP'), ('by', 'IN'), ('my', 'PRP$'), ('prolonged', 'JJ'), ('researches', 'NNS'), ('into', 'IN'), ('the', 'DT'), ('works', 'NNS'), ('of', 'IN'), ('the', 'DT'), ('old', 'JJ'), ('alchemists', 'NNS'), ('and', 'CC'), ('demonologists', 'NNS'), ('.', '.'), ('The', 'DT'), ('apparition', 'NN'), ('spoke', 'NN'), ('of', 'IN'), ('the', 'DT'), ('curse', 'NN'), ('which', 'WDT'), ('had', 'VBD'), ('hovered', 'VBN'), ('over', 'IN'), ('my', 'PRP$'), ('house', 'NN'), (',', ','), ('told', 'VBD'), ('me', 'PRP'), ('of', 'IN'), ('my', 'PRP$'), ('coming', 'JJ'), ('end', 'NN'), (',', ','), ('dwelt', 'NN'), ('on', 'IN'), ('the', 'DT'), ('wrong', 'JJ'), ('perpetrated', 'VBN'), ('by', 'IN'), ('my', 'PRP$'), ('ancestor', 'NN'), ('against', 'IN'), ('old', 'JJ'), ('Michel', 'NNP'), ('Mauvais', 'NNP'), (',', ','), ('and', 'CC'), ('gloated', 'VBD'), ('over', 'IN'), ('the', 'DT'), ('revenge', 'NN'), ('of', 'IN'), ('Charles', 'NNP'), ('Le', 'NNP'), ('Sorcier', 'NNP'), ('.', '.'), ('He', 'PRP'), ('told', 'VBD'), ('how', 'WRB'), ('young', 'JJ'), ('Charles', 'NNP'), ('has', 'VBZ'), ('escaped', 'VBN'), ('into', 'IN'), ('the', 'DT'), ('night', 'NN'), (',', ','), ('returning', 'VBG'), ('in', 'IN'), ('after', 'IN'), ('years', 'NNS'), ('to', 'TO'), ('kill', 'VB'), ('Godfrey', 'NNP'), ('the', 'DT'), ('heir', 'NN'), ('with', 'IN'), ('an', 'DT'), ('arrow', 'NN'), ('just', 'RB'), ('as', 'IN'), ('he', 'PRP'), ('approached', 'VBD'), ('the', 'DT'), ('age', 'NN'), ('which', 'WDT'), ('had', 'VBD'), ('been', 'VBN'), ('his', 'PRP$'), ('father', 'NN'), (\"'s\", 'POS'), ('at', 'IN'), ('his', 'PRP$'), ('assassination', 'NN'), (';', ':'), ('how', 'WRB'), ('he', 'PRP'), ('had', 'VBD'), ('secretly', 'RB'), ('returned', 'VBN'), ('to', 'TO'), ('the', 'DT'), ('estate', 'NN'), ('and', 'CC'), ('established', 'VBN'), ('himself', 'PRP'), (',', ','), ('unknown', 'JJ'), (',', ','), ('in', 'IN'), ('the', 'DT'), ('even', 'RB'), ('then', 'RB'), ('deserted', 'VBD'), ('subterranean', 'JJ'), ('chamber', 'NN'), ('whose', 'WP$'), ('doorway', 'NN'), ('now', 'RB'), ('framed', 'VBZ'), ('the', 'DT'), ('hideous', 'JJ'), ('narrator', 'NN'), (',', ','), ('how', 'WRB'), ('he', 'PRP'), ('had', 'VBD'), ('seized', 'VBN'), ('Robert', 'NNP'), (',', ','), ('son', 'NN'), ('of', 'IN'), ('Godfrey', 'NNP'), (',', ','), ('in', 'IN'), ('a', 'DT'), ('field', 'NN'), (',', ','), ('forced', 'VBD'), ('poison', 'NN'), ('down', 'RP'), ('his', 'PRP$'), ('throat', 'NN'), (',', ','), ('and', 'CC'), ('left', 'VBD'), ('him', 'PRP'), ('to', 'TO'), ('die', 'VB'), ('at', 'IN'), ('the', 'DT'), ('age', 'NN'), ('of', 'IN'), ('thirty-two', 'JJ'), (',', ','), ('thus', 'RB'), ('maintaing', 'VBG'), ('the', 'DT'), ('foul', 'JJ'), ('provisions', 'NNS'), ('of', 'IN'), ('his', 'PRP$'), ('vengeful', 'JJ'), ('curse', 'NN'), ('.', '.'), ('At', 'IN'), ('this', 'DT'), ('point', 'NN'), ('I', 'PRP'), ('was', 'VBD'), ('left', 'VBN'), ('to', 'TO'), ('imagine', 'VB'), ('the', 'DT'), ('solution', 'NN'), ('of', 'IN'), ('the', 'DT'), ('greatest', 'JJS'), ('mystery', 'NN'), ('of', 'IN'), ('all', 'DT'), (',', ','), ('how', 'WRB'), ('the', 'DT'), ('curse', 'NN'), ('had', 'VBD'), ('been', 'VBN'), ('fulfilled', 'VBN'), ('since', 'IN'), ('that', 'DT'), ('time', 'NN'), ('when', 'WRB'), ('Charles', 'NNP'), ('Le', 'NNP'), ('Sorcier', 'NNP'), ('must', 'MD'), ('in', 'IN'), ('the', 'DT'), ('course', 'NN'), ('of', 'IN'), ('nature', 'NN'), ('have', 'VBP'), ('died', 'VBN'), (',', ','), ('for', 'IN'), ('the', 'DT'), ('man', 'NN'), ('digressed', 'VBD'), ('into', 'IN'), ('an', 'DT'), ('account', 'NN'), ('of', 'IN'), ('the', 'DT'), ('deep', 'JJ'), ('alchemical', 'JJ'), ('studies', 'NNS'), ('of', 'IN'), ('the', 'DT'), ('two', 'CD'), ('wizards', 'NNS'), (',', ','), ('father', 'NN'), ('and', 'CC'), ('son', 'NN'), (',', ','), ('speaking', 'VBG'), ('most', 'JJS'), ('particularly', 'RB'), ('of', 'IN'), ('the', 'DT'), ('researches', 'NNS'), ('of', 'IN'), ('Charles', 'NNP'), ('Le', 'NNP'), ('Sorcier', 'NNP'), ('concerning', 'VBG'), ('the', 'DT'), ('elixir', 'NN'), ('which', 'WDT'), ('should', 'MD'), ('grant', 'VB'), ('to', 'TO'), ('him', 'PRP'), ('who', 'WP'), ('partook', 'VBP'), ('of', 'IN'), ('it', 'PRP'), ('eternal', 'JJ'), ('life', 'NN'), ('and', 'CC'), ('youth', 'NN'), ('.', '.'), ('His', 'PRP$'), ('enthusiasm', 'NN'), ('had', 'VBD'), ('seemed', 'VBN'), ('for', 'IN'), ('the', 'DT'), ('moment', 'NN'), ('to', 'TO'), ('remove', 'VB'), ('from', 'IN'), ('his', 'PRP$'), ('terrible', 'JJ'), ('eyes', 'NNS'), ('the', 'DT'), ('black', 'JJ'), ('malevolence', 'NN'), ('that', 'WDT'), ('had', 'VBD'), ('first', 'RB'), ('so', 'RB'), ('haunted', 'VBN'), ('me', 'PRP'), (',', ','), ('but', 'CC'), ('suddenly', 'RB'), ('the', 'DT'), ('fiendish', 'JJ'), ('glare', 'NN'), ('returned', 'VBN'), ('and', 'CC'), (',', ','), ('with', 'IN'), ('a', 'DT'), ('shocking', 'VBG'), ('sound', 'NN'), ('like', 'IN'), ('the', 'DT'), ('hissing', 'NN'), ('of', 'IN'), ('a', 'DT'), ('serpent', 'NN'), (',', ','), ('the', 'DT'), ('stranger', 'NN'), ('raised', 'VBD'), ('a', 'DT'), ('glass', 'NN'), ('phial', 'NN'), ('with', 'IN'), ('the', 'DT'), ('evident', 'JJ'), ('intent', 'NN'), ('of', 'IN'), ('ending', 'VBG'), ('my', 'PRP$'), ('life', 'NN'), ('as', 'IN'), ('had', 'VBD'), ('Charles', 'NNP'), ('Le', 'NNP'), ('Sorcier', 'NNP'), (',', ','), ('six', 'CD'), ('hundred', 'CD'), ('years', 'NNS'), ('before', 'IN'), (',', ','), ('ended', 'VBD'), ('that', 'IN'), ('of', 'IN'), ('my', 'PRP$'), ('ancestor', 'NN'), ('.', '.'), ('Prompted', 'VBN'), ('by', 'IN'), ('some', 'DT'), ('preserving', 'VBG'), ('instinct', 'NN'), ('of', 'IN'), ('self-defense', 'NN'), (',', ','), ('I', 'PRP'), ('broke', 'VBD'), ('through', 'IN'), ('the', 'DT'), ('spell', 'NN'), ('that', 'WDT'), ('had', 'VBD'), ('hitherto', 'VBN'), ('held', 'VBN'), ('me', 'PRP'), ('immovable', 'JJ'), (',', ','), ('and', 'CC'), ('flung', 'VB'), ('my', 'PRP$'), ('now', 'RB'), ('dying', 'VBG'), ('torch', 'NN'), ('at', 'IN'), ('the', 'DT'), ('creature', 'NN'), ('who', 'WP'), ('menaced', 'VBD'), ('my', 'PRP$'), ('existence', 'NN'), ('.', '.'), ('I', 'PRP'), ('heard', 'VBD'), ('the', 'DT'), ('phial', 'JJ'), ('break', 'NN'), ('harmlessly', 'RB'), ('against', 'IN'), ('the', 'DT'), ('stones', 'NNS'), ('of', 'IN'), ('the', 'DT'), ('passage', 'NN'), ('as', 'IN'), ('the', 'DT'), ('tunic', 'NN'), ('of', 'IN'), ('the', 'DT'), ('strange', 'JJ'), ('man', 'NN'), ('caught', 'VBD'), ('fire', 'NN'), ('and', 'CC'), ('lit', 'VBD'), ('the', 'DT'), ('horrid', 'JJ'), ('scene', 'NN'), ('with', 'IN'), ('a', 'DT'), ('ghastly', 'RB'), ('radiance', 'NN'), ('.', '.'), ('The', 'DT'), ('shriek', 'NN'), ('of', 'IN'), ('fright', 'NN'), ('and', 'CC'), ('impotent', 'JJ'), ('malice', 'NN'), ('emitted', 'VBN'), ('by', 'IN'), ('the', 'DT'), ('would-', 'JJ'), ('be', 'VB'), ('assassin', 'JJ'), ('proved', 'VBN'), ('too', 'RB'), ('much', 'JJ'), ('for', 'IN'), ('my', 'PRP$'), ('already', 'RB'), ('shaken', 'VBN'), ('nerves', 'NNS'), (',', ','), ('and', 'CC'), ('I', 'PRP'), ('fell', 'VBD'), ('prone', 'RB'), ('upon', 'IN'), ('the', 'DT'), ('slimy', 'JJ'), ('floor', 'NN'), ('in', 'IN'), ('a', 'DT'), ('total', 'JJ'), ('faint', 'NN'), ('.', '.'), ('When', 'WRB'), ('at', 'IN'), ('last', 'JJ'), ('my', 'PRP$'), ('senses', 'NNS'), ('returned', 'VBN'), (',', ','), ('all', 'DT'), ('was', 'VBD'), ('frightfully', 'RB'), ('dark', 'JJ'), (',', ','), ('and', 'CC'), ('my', 'PRP$'), ('mind', 'NN'), (',', ','), ('remembering', 'VBG'), ('what', 'WP'), ('had', 'VBD'), ('occurred', 'VBN'), (',', ','), ('shrank', 'NN'), ('from', 'IN'), ('the', 'DT'), ('idea', 'NN'), ('of', 'IN'), ('beholding', 'VBG'), ('any', 'DT'), ('more', 'JJR'), (';', ':'), ('yet', 'RB'), ('curiosity', 'NN'), ('over-mastered', 'JJ'), ('all', 'DT'), ('.', '.'), ('Who', 'WP'), (',', ','), ('I', 'PRP'), ('asked', 'VBD'), ('myself', 'PRP'), (',', ','), ('was', 'VBD'), ('this', 'DT'), ('man', 'NN'), ('of', 'IN'), ('evil', 'JJ'), (',', ','), ('and', 'CC'), ('how', 'WRB'), ('came', 'VBD'), ('he', 'PRP'), ('within', 'IN'), ('the', 'DT'), ('castle', 'NN'), ('walls', 'NNS'), ('?', '.'), ('Why', 'WRB'), ('should', 'MD'), ('he', 'PRP'), ('seek', 'VB'), ('to', 'TO'), ('avenge', 'VB'), ('the', 'DT'), ('death', 'NN'), ('of', 'IN'), ('Michel', 'NNP'), ('Mauvais', 'NNP'), (',', ','), ('and', 'CC'), ('how', 'WRB'), ('bad', 'JJ'), ('the', 'DT'), ('curse', 'NN'), ('been', 'VBN'), ('carried', 'VBN'), ('on', 'IN'), ('through', 'IN'), ('all', 'PDT'), ('the', 'DT'), ('long', 'JJ'), ('centuries', 'NNS'), ('since', 'IN'), ('the', 'DT'), ('time', 'NN'), ('of', 'IN'), ('Charles', 'NNP'), ('Le', 'NNP'), ('Sorcier', 'NNP'), ('?', '.'), ('The', 'DT'), ('dread', 'NN'), ('of', 'IN'), ('years', 'NNS'), ('was', 'VBD'), ('lifted', 'VBN'), ('from', 'IN'), ('my', 'PRP$'), ('shoulder', 'NN'), (',', ','), ('for', 'IN'), ('I', 'PRP'), ('knew', 'VBD'), ('that', 'IN'), ('he', 'PRP'), ('whom', 'WP'), ('I', 'PRP'), ('had', 'VBD'), ('felled', 'VBN'), ('was', 'VBD'), ('the', 'DT'), ('source', 'NN'), ('of', 'IN'), ('all', 'DT'), ('my', 'PRP$'), ('danger', 'NN'), ('from', 'IN'), ('the', 'DT'), ('curse', 'NN'), (';', ':'), ('and', 'CC'), ('now', 'RB'), ('that', 'IN'), ('I', 'PRP'), ('was', 'VBD'), ('free', 'JJ'), (',', ','), ('I', 'PRP'), ('burned', 'VBD'), ('with', 'IN'), ('the', 'DT'), ('desire', 'NN'), ('to', 'TO'), ('learn', 'VB'), ('more', 'JJR'), ('of', 'IN'), ('the', 'DT'), ('sinister', 'NN'), ('thing', 'NN'), ('which', 'WDT'), ('had', 'VBD'), ('haunted', 'VBN'), ('my', 'PRP$'), ('line', 'NN'), ('for', 'IN'), ('centuries', 'NNS'), (',', ','), ('and', 'CC'), ('made', 'VBD'), ('of', 'IN'), ('my', 'PRP$'), ('own', 'JJ'), ('youth', 'NN'), ('one', 'CD'), ('long-continued', 'JJ'), ('nightmare', 'NN'), ('.', '.'), ('Determined', 'VBN'), ('upon', 'IN'), ('further', 'JJ'), ('exploration', 'NN'), (',', ','), ('I', 'PRP'), ('felt', 'VBD'), ('in', 'IN'), ('my', 'PRP$'), ('pockets', 'NNS'), ('for', 'IN'), ('flint', 'NN'), ('and', 'CC'), ('steel', 'NN'), (',', ','), ('and', 'CC'), ('lit', 'VBD'), ('the', 'DT'), ('unused', 'JJ'), ('torch', 'NN'), ('which', 'WDT'), ('I', 'PRP'), ('had', 'VBD'), ('with', 'IN'), ('me', 'PRP'), ('.', '.'), ('First', 'NNP'), ('of', 'IN'), ('all', 'RB'), (',', ','), ('new', 'JJ'), ('light', 'NN'), ('revealed', 'VBD'), ('the', 'DT'), ('distorted', 'JJ'), ('and', 'CC'), ('blackened', 'JJ'), ('form', 'NN'), ('of', 'IN'), ('the', 'DT'), ('mysterious', 'JJ'), ('stranger', 'NN'), ('.', '.'), ('The', 'DT'), ('hideous', 'JJ'), ('eyes', 'NNS'), ('were', 'VBD'), ('now', 'RB'), ('closed', 'VBN'), ('.', '.'), ('Disliking', 'VBG'), ('the', 'DT'), ('sight', 'NN'), (',', ','), ('I', 'PRP'), ('turned', 'VBD'), ('away', 'RB'), ('and', 'CC'), ('entered', 'VBD'), ('the', 'DT'), ('chamber', 'NN'), ('beyond', 'IN'), ('the', 'DT'), ('Gothic', 'NNP'), ('door', 'NN'), ('.', '.'), ('Here', 'RB'), ('I', 'PRP'), ('found', 'VBD'), ('what', 'WP'), ('seemed', 'VBD'), ('much', 'JJ'), ('like', 'IN'), ('an', 'DT'), ('alchemist', 'NN'), (\"'s\", 'POS'), ('laboratory', 'NN'), ('.', '.'), ('In', 'IN'), ('one', 'CD'), ('corner', 'NN'), ('was', 'VBD'), ('an', 'DT'), ('immense', 'JJ'), ('pile', 'NN'), ('of', 'IN'), ('shining', 'VBG'), ('yellow', 'JJ'), ('metal', 'NN'), ('that', 'WDT'), ('sparkled', 'VBD'), ('gorgeously', 'RB'), ('in', 'IN'), ('the', 'DT'), ('light', 'NN'), ('of', 'IN'), ('the', 'DT'), ('torch', 'NN'), ('.', '.'), ('It', 'PRP'), ('may', 'MD'), ('have', 'VB'), ('been', 'VBN'), ('gold', 'JJ'), (',', ','), ('but', 'CC'), ('I', 'PRP'), ('did', 'VBD'), ('not', 'RB'), ('pause', 'VB'), ('to', 'TO'), ('examine', 'VB'), ('it', 'PRP'), (',', ','), ('for', 'IN'), ('I', 'PRP'), ('was', 'VBD'), ('strangely', 'RB'), ('affected', 'VBN'), ('by', 'IN'), ('that', 'DT'), ('which', 'WDT'), ('I', 'PRP'), ('had', 'VBD'), ('undergone', 'NN'), ('.', '.'), ('At', 'IN'), ('the', 'DT'), ('farther', 'JJ'), ('end', 'NN'), ('of', 'IN'), ('the', 'DT'), ('apartment', 'NN'), ('was', 'VBD'), ('an', 'DT'), ('opening', 'NN'), ('leading', 'VBG'), ('out', 'RP'), ('into', 'IN'), ('one', 'CD'), ('of', 'IN'), ('the', 'DT'), ('many', 'JJ'), ('wild', 'JJ'), ('ravines', 'NNS'), ('of', 'IN'), ('the', 'DT'), ('dark', 'JJ'), ('hillside', 'NN'), ('forest', 'JJS'), ('.', '.'), ('Filled', 'VBN'), ('with', 'IN'), ('wonder', 'NN'), (',', ','), ('yet', 'RB'), ('now', 'RB'), ('realizing', 'VBG'), ('how', 'WRB'), ('the', 'DT'), ('man', 'NN'), ('had', 'VBD'), ('obtained', 'VBN'), ('access', 'NN'), ('to', 'TO'), ('the', 'DT'), ('chauteau', 'NN'), (',', ','), ('I', 'PRP'), ('proceeded', 'VBD'), ('to', 'TO'), ('return', 'VB'), ('.', '.'), ('I', 'PRP'), ('had', 'VBD'), ('intended', 'VBN'), ('to', 'TO'), ('pass', 'VB'), ('by', 'IN'), ('the', 'DT'), ('remains', 'NNS'), ('of', 'IN'), ('the', 'DT'), ('stranger', 'NN'), ('with', 'IN'), ('averted', 'JJ'), ('face', 'NN'), ('but', 'CC'), (',', ','), ('as', 'IN'), ('I', 'PRP'), ('approached', 'VBD'), ('the', 'DT'), ('body', 'NN'), (',', ','), ('I', 'PRP'), ('seemed', 'VBD'), ('to', 'TO'), ('hear', 'VB'), ('emanating', 'VBG'), ('from', 'IN'), ('it', 'PRP'), ('a', 'DT'), ('faint', 'NN'), ('sound', 'NN'), (',', ','), ('as', 'IN'), ('though', 'IN'), ('life', 'NN'), ('were', 'VBD'), ('not', 'RB'), ('yet', 'RB'), ('wholly', 'RB'), ('extinct', 'JJ'), ('.', '.'), ('Aghast', 'NNP'), (',', ','), ('I', 'PRP'), ('turned', 'VBD'), ('to', 'TO'), ('examine', 'VB'), ('the', 'DT'), ('charred', 'JJ'), ('and', 'CC'), ('shrivelled', 'JJ'), ('figure', 'NN'), ('on', 'IN'), ('the', 'DT'), ('floor', 'NN'), ('.', '.'), ('Then', 'RB'), ('all', 'DT'), ('at', 'IN'), ('once', 'RB'), ('the', 'DT'), ('horrible', 'JJ'), ('eyes', 'NNS'), (',', ','), ('blacker', 'NN'), ('even', 'RB'), ('than', 'IN'), ('the', 'DT'), ('seared', 'JJ'), ('face', 'NN'), ('in', 'IN'), ('which', 'WDT'), ('they', 'PRP'), ('were', 'VBD'), ('set', 'VBN'), (',', ','), ('opened', 'VBD'), ('wide', 'JJ'), ('with', 'IN'), ('an', 'DT'), ('expression', 'NN'), ('which', 'WDT'), ('I', 'PRP'), ('was', 'VBD'), ('unable', 'JJ'), ('to', 'TO'), ('interpret', 'VB'), ('.', '.'), ('The', 'DT'), ('cracked', 'JJ'), ('lips', 'NNS'), ('tried', 'VBD'), ('to', 'TO'), ('frame', 'VB'), ('words', 'NNS'), ('which', 'WDT'), ('I', 'PRP'), ('could', 'MD'), ('not', 'RB'), ('well', 'RB'), ('understand', 'VB'), ('.', '.'), ('Once', 'RB'), ('I', 'PRP'), ('caught', 'VBP'), ('the', 'DT'), ('name', 'NN'), ('of', 'IN'), ('Charles', 'NNP'), ('Le', 'NNP'), ('Sorcier', 'NNP'), (',', ','), ('and', 'CC'), ('again', 'RB'), ('I', 'PRP'), ('fancied', 'VBD'), ('that', 'IN'), ('the', 'DT'), ('words', 'NNS'), (\"'years\", 'POS'), (\"'\", 'POS'), ('and', 'CC'), (\"'curse\", 'POS'), (\"'\", \"''\"), ('issued', 'VBN'), ('from', 'IN'), ('the', 'DT'), ('twisted', 'JJ'), ('mouth', 'NN'), ('.', '.'), ('Still', 'RB'), ('I', 'PRP'), ('was', 'VBD'), ('at', 'IN'), ('a', 'DT'), ('loss', 'NN'), ('to', 'TO'), ('gather', 'VB'), ('the', 'DT'), ('purport', 'NN'), ('of', 'IN'), ('his', 'PRP$'), ('disconnnected', 'JJ'), ('speech', 'NN'), ('.', '.'), ('At', 'IN'), ('my', 'PRP$'), ('evident', 'JJ'), ('ignorance', 'NN'), ('of', 'IN'), ('his', 'PRP$'), ('meaning', 'NN'), (',', ','), ('the', 'DT'), ('pitchy', 'JJ'), ('eyes', 'NNS'), ('once', 'RB'), ('more', 'RBR'), ('flashed', 'JJ'), ('malevolently', 'RB'), ('at', 'IN'), ('me', 'PRP'), (',', ','), ('until', 'IN'), (',', ','), ('helpless', 'NN'), ('as', 'IN'), ('I', 'PRP'), ('saw', 'VBD'), ('my', 'PRP$'), ('opponent', 'NN'), ('to', 'TO'), ('be', 'VB'), (',', ','), ('I', 'PRP'), ('trembled', 'VBD'), ('as', 'IN'), ('I', 'PRP'), ('watched', 'VBD'), ('him', 'PRP'), ('.', '.'), ('Suddenly', 'RB'), ('the', 'DT'), ('wretch', 'NN'), (',', ','), ('animated', 'VBN'), ('with', 'IN'), ('his', 'PRP$'), ('last', 'JJ'), ('burst', 'NN'), ('of', 'IN'), ('strength', 'NN'), (',', ','), ('raised', 'VBD'), ('his', 'PRP$'), ('piteous', 'JJ'), ('head', 'NN'), ('from', 'IN'), ('the', 'DT'), ('damp', 'NN'), ('and', 'CC'), ('sunken', 'JJ'), ('pavement', 'NN'), ('.', '.'), ('Then', 'RB'), (',', ','), ('as', 'IN'), ('I', 'PRP'), ('remained', 'VBD'), (',', ','), ('paralyzed', 'VBN'), ('with', 'IN'), ('fear', 'NN'), (',', ','), ('he', 'PRP'), ('found', 'VBD'), ('his', 'PRP$'), ('voice', 'NN'), ('and', 'CC'), ('in', 'IN'), ('his', 'PRP$'), ('dying', 'VBG'), ('breath', 'NN'), ('screamed', 'VBD'), ('forth', 'JJ'), ('those', 'DT'), ('words', 'NNS'), ('which', 'WDT'), ('have', 'VBP'), ('ever', 'RB'), ('afterward', 'RB'), ('haunted', 'VBN'), ('my', 'PRP$'), ('days', 'NNS'), ('and', 'CC'), ('nights', 'NNS'), ('.', '.'), (\"'Fool\", 'NN'), ('!', '.'), (\"'\", \"''\"), ('he', 'PRP'), ('shrieked', 'VBD'), (',', ','), (\"'Can\", \"''\"), ('you', 'PRP'), ('not', 'RB'), ('guess', 'VB'), ('my', 'PRP$'), ('secret', 'NN'), ('?', '.'), ('Have', 'VBP'), ('you', 'PRP'), ('no', 'DT'), ('brain', 'NN'), ('whereby', 'RB'), ('you', 'PRP'), ('may', 'MD'), ('recognize', 'VB'), ('the', 'DT'), ('will', 'MD'), ('which', 'WDT'), ('has', 'VBZ'), ('through', 'IN'), ('six', 'CD'), ('long', 'JJ'), ('centuries', 'NNS'), ('fulfilled', 'VBD'), ('the', 'DT'), ('dreadful', 'JJ'), ('curse', 'NN'), ('upon', 'IN'), ('the', 'DT'), ('house', 'NN'), ('?', '.'), ('Have', 'VBP'), ('I', 'PRP'), ('not', 'RB'), ('told', 'VBD'), ('you', 'PRP'), ('of', 'IN'), ('the', 'DT'), ('great', 'JJ'), ('elixir', 'NN'), ('of', 'IN'), ('eternal', 'JJ'), ('life', 'NN'), ('?', '.'), ('Know', 'NNP'), ('you', 'PRP'), ('not', 'RB'), ('how', 'WRB'), ('the', 'DT'), ('secret', 'NN'), ('of', 'IN'), ('Alchemy', 'NNP'), ('was', 'VBD'), ('solved', 'VBN'), ('?', '.'), ('I', 'PRP'), ('tell', 'VBP'), ('you', 'PRP'), (',', ','), ('it', 'PRP'), ('is', 'VBZ'), ('I', 'PRP'), ('!', '.'), ('I', 'PRP'), ('!', '.'), ('I', 'PRP'), ('!', '.'), ('that', 'WDT'), ('have', 'VBP'), ('lived', 'VBN'), ('for', 'IN'), ('six', 'CD'), ('hundred', 'CD'), ('years', 'NNS'), ('to', 'TO'), ('maintain', 'VB'), ('my', 'PRP$'), ('revenge', 'NN'), (',', ','), ('for', 'IN'), ('I', 'PRP'), ('am', 'VBP'), ('Charles', 'NNP'), ('Le', 'NNP'), ('Sorcier', 'NNP'), ('!', '.'), (\"'\", \"''\")]\n"
          ]
        }
      ]
    },
    {
      "cell_type": "markdown",
      "source": [
        "#Stopword Removal"
      ],
      "metadata": {
        "id": "lHkjLgBN6TXi"
      }
    },
    {
      "cell_type": "code",
      "source": [
        "from nltk.corpus import stopwords\n",
        "\n",
        "stopwords = nltk.corpus.stopwords.words('english')\n",
        "\n",
        "stopword_removed_sentences = []\n",
        "for sentence in sentences:\n",
        "  stopword_removed_sentence = []\n",
        "  for word in sentence.split():\n",
        "    if word not in stopwords:\n",
        "      stopword_removed_sentence.append(word)\n",
        "  stopword_removed_sentences.append(' '.join(stopword_removed_sentence))"
      ],
      "metadata": {
        "id": "K6JYqUw96Sy5"
      },
      "execution_count": 9,
      "outputs": []
    },
    {
      "cell_type": "code",
      "source": [
        "print('Stopword removed sentences:')\n",
        "print(stopword_removed_sentences)"
      ],
      "metadata": {
        "colab": {
          "base_uri": "https://localhost:8080/"
        },
        "id": "wNc2rs0z5qwR",
        "outputId": "a9fb8f2c-c6c8-487b-b4de-45e28f29a0f5"
      },
      "execution_count": 10,
      "outputs": [
        {
          "output_type": "stream",
          "name": "stdout",
          "text": [
            "Stopword removed sentences:\n",
            "['High up, crowning grassy summit swelling mount whose sides wooded near base gnarled trees primeval forest stands old chateau ancestors. For centuries lofty battlements frowned upon wild rugged countryside about, serving home stronghold proud house whose honored line older even moss-grown castle walls. These ancient turrets, stained storms generations crumbling slow yet mighty pressure time, formed ages feudalism one dreaded formidable fortresses France. From machicolated parapets mounted battlements Barons, Counts, even Kings defied, yet never spacious halls resounded footsteps invader.', 'But since glorious years, changed. A poverty little level dire want, together pride name forbids alleviation pursuits commercial life, prevented scions line maintaining estates pristine splendour; falling stones walls, overgrown vegetation parks, dry dusty moat, ill- paved courtyards, toppling towers without, well sagging floors, worm-eaten wainscots, faded tapestries within, tell gloomy tale fallen grandeur. As ages passed, first one, another four great turrets left ruin, last single tower housed sadly reduced descendants mighty lords estate.', 'It one vast gloomy chambers remaining tower I, Antoine, last unhappy accursed Counts de C-, first saw light day, ninety long years ago. Within walls amongst dark shadowy forests, wild ravines grottos hillside below, spent first years troubled life. My parents I never knew. My father killed age thirty-two, month I born, fall stone somehow dislodged one deserted parapets castle. And mother died birth, care education devolved solely upon one remaining servitor, old trusted man considerable intelligence, whose name I remember Pierre. I child lack companionship fact entailed upon augmented strange care exercised aged guardian, excluding society peasant children whose abodes scattered upon plains surround base hill. At time, Pierre said restriction imposed upon noble birth placed association plebeian company. Now I know real object keep ears idle tales dread curse upon line nightly told magnified simple tenantry conversed hushed accents glow cottage hearths.', 'Thus isolated, thrown upon resources, I spent hours childhood poring ancient tomes filled shadow haunted library chateau, roaming without aim purpose perpetual dust spectral wood clothes side hill near foot. It perhaps effect surroundings mind early acquired shade melancholy. Those studies pursuits partake dark occult nature strongly claimed attention.', 'Of race I permitted learn singularly little, yet small knowledge I able gain seemed depress much. Perhaps first manifest reluctance old preceptor discuss paternal ancestry gave rise terror I ever felt mention great house, yet I grew childhood, I able piece together disconnected fragments discourse, let slip unwilling tongue begun falter approaching senility, sort relation certain circumstance I always deemed strange, became dimly terrible. The circumstance I allude early age Counts line met end. Whilst I hitherto considered natural attribute family short-lived men, I afterward pondered long upon premature deaths, began connect wanderings old man, often spoke curse centuries prevented lives holders title much exceeding span thirty-two years. Upon twenty-first birthday, aged Pierre gave family document said many generations handed father son, continued possessor. Its contents startling nature, perusal confirmed gravest apprehensions. At time, belief supernatural firm deep-seated, else I dismissed scorn incredible narrative unfolded eyes.', \"The paper carried back days thirteenth century, old castle I sat feared impregnable fortress. It told certain ancient man dwelled estates, person small accomplishments, though little rank peasant, name, Michel, usually designated surname Mauvais, Evil, account sinister reputation. He studied beyond custom kind, seeking things Philosopher's Stone Elixir Eternal Life, reputed wise terrible secrets Black Magic Alchemy. Michel Mauvais one son, named Charles, youth proficient hidden arts, therefore called Le Sorcier, Wizard. This pair, shunned honest folk, suspected hideous practices. Old Michel said burnt wife alive sacrifice Devil, unaccountable disappearance many small peasant children laid dreaded door two. Yet dark natures father son ran one redeeming ray humanity; evil old man loved offspring fierce intensity, whilst youth parent filial affection.\", \"One night castle hill thrown wildest confusion vanishment young Godfrey, son Henri, Count. A searching party, headed frantic father, invaded cottage sorcerers came upon old Michel Mauvais, busy huge violently boiling cauldron. Without certain cause, ungoverned madness fury despair, Count laid hands aged wizard, ere released murderous hold, victim more. Meanwhile, joyful servants proclaiming finding young Godfrey distant unused chamber great edifice, telling late poor Michel killed vain. As Count associates turned away lowly abode alchemist, form Charles Le Sorcier appeared trees. The excited chatter menials standing told occurred, yet seemed first unmoved father's fate. Then, slowly advancing meet Count, pronounced dull yet terrible accents curse ever afterward haunted house C-.\", '', \"'May ne'er noble thy murd'rous line Survive reach greater age thine!' spake he, when, suddenly leaping backwards black woods, drew tunic phial colourless liquid threw face father's slayer disappeared behind inky curtain night. The Count died without utterance, buried next day, little two thirty years hour birth. No trace assassin could found, though relentless bands peasants scoured neighboring woods meadowland around hill.\", \"Thus time want reminder dulled memory curse minds late Count's family, Godfrey, innocent cause whole tragedy bearing title, killed arrow whilst hunting age thirty-two, thoughts save grief demise. But when, years afterward, next young Count, Robert name, found dead nearby field apparent cause, peasants told whispers seigneur lately passed thirty-second birthday surprised early death. Louis, son Robert, found drowned moat fateful age, thus centuries ran ominous chronicle: Henris, Roberts, Antoines, Armands snatched happy virtuous lives little age unfortunate ancestor murder.\", 'That I left eleven years existence made certain words I read. My life, previously held small value, became dearer day, I delved deeper deeper mysteries hidden world black magic. Isolated I was, modern science produced impression upon me, I laboured Middle Ages, wrapt old Michel young Charles acquisition demonological alchemical learning. Yet read I might, manner could I account strange curse upon line. In unusually rational moments I would even go far seek natural explanation, attributing early deaths ancestors sinister Charles Le Sorcier heirs; yet, found upon careful inquiry known descendants alchemist, I would fall back occult studies, endeavor find spell, would release house terrible burden. Upon one thing I absolutely resolved. I never wed, for, since branch family existence, I might thus end curse myself.', 'As I drew near age thirty, old Pierre called land beyond. Alone I buried beneath stones courtyard loved wander life. Thus I left ponder human creature within great fortress, utter solitude mind began cease vain protest impending doom, become almost reconciled fate many ancestors met. Much time occupied exploration ruined abandoned halls towers old chateau, youth fear caused shun, old Pierre told trodden human foot four centuries. Strange awesome many objects I encountered. Furniture, covered dust ages crumbling rot long dampness, met eyes. Cobwebs profusion never seen spun everywhere, huge bats flapped bony uncanny wings sides otherwise untenanted gloom.', 'Of exact age, even days hours, I kept careful record, movement pendulum massive clock library told much doomed existence. At length I approached time I long viewed apprehension. Since ancestors seized little reached exact age Count Henri end, I every moment watch coming unknown death. In strange form curse overtake me, I knew not; I resolved least find cowardly passive victim. With new vigour I applied examination old chateau contents.', 'It upon one longest excursions discovery deserted portion castle, less week fatal hour I felt must mark utmost limit stay earth, beyond I could even slightest hope continuing draw breath I came upon culminating event whole life. I spent better part morning climbing half ruined staircases one dilapidated ancient turrets. As afternoon progressed, I sought lower levels, descending appeared either mediaeval place confinement, recently excavated storehouse gunpowder. As I slowly traversed nitre-encrusted passageway foot last staircase, paving became damp, soon I saw light flickering torch blank, water-stained wall impeded journey. Turning retrace steps, eye fell upon small trapdoor ring, lay directly beneath foot. Pausing, I succeeded difficulty raising it, whereupon revealed black aperture, exhaling noxious fumes caused torch sputter, disclosing unsteady glare top flight stone steps.', 'As soon torch I lowered repellent depths burned freely steadily, I commenced descent. The steps many, led narrow stone-flagged passage I knew must far underground. This passage proved great length, terminated massive oaken door, dripping moisture place, stoutly resisting attempts open it. Ceasing time efforts direction, I proceeded back distance toward steps suddenly fell experience one profound maddening shocks capable reception human mind. Without warning, I heard heavy door behind creak slowly open upon rusted hinges. My immediate sensations incapable analysis. To confronted place thoroughly deserted I deemed old castle evidence presence man spirit produced brain horror acute description. When last I turned faced seat sound, eyes must started orbits sight beheld.', 'There ancient Gothic doorway stood human figure. It man clad skull-cap long mediaeval tunic dark colour. His long hair flowing beard terrible intense black hue, incredible profusion. His forehead, high beyond usual dimensions; cheeks, deep- sunken heavily lined wrinkles; hands, long, claw-like, gnarled, deadly marble-like whiteness I never elsewhere seen man. His figure, lean proportions skeleton, strangely bent almost lost within voluminous folds peculiar garment. But strangest eyes, twin caves abysmal blackness, profound expression understanding, yet inhuman degree wickedness. These fixed upon me, piercing soul hatred, rooting spot whereon I stood.', \"At last figure spoke rumbling voice chilled dull hollowness latent malevolence. The language discourse clothed debased form Latin use amongst learned men Middle Ages, made familiar prolonged researches works old alchemists demonologists. The apparition spoke curse hovered house, told coming end, dwelt wrong perpetrated ancestor old Michel Mauvais, gloated revenge Charles Le Sorcier. He told young Charles escaped night, returning years kill Godfrey heir arrow approached age father's assassination; secretly returned estate established himself, unknown, even deserted subterranean chamber whose doorway framed hideous narrator, seized Robert, son Godfrey, field, forced poison throat, left die age thirty-two, thus maintaing foul provisions vengeful curse. At point I left imagine solution greatest mystery all, curse fulfilled since time Charles Le Sorcier must course nature died, man digressed account deep alchemical studies two wizards, father son, speaking particularly researches Charles Le Sorcier concerning elixir grant partook eternal life youth.\", 'His enthusiasm seemed moment remove terrible eyes black malevolence first haunted me, suddenly fiendish glare returned and, shocking sound like hissing serpent, stranger raised glass phial evident intent ending life Charles Le Sorcier, six hundred years before, ended ancestor. Prompted preserving instinct self-defense, I broke spell hitherto held immovable, flung dying torch creature menaced existence. I heard phial break harmlessly stones passage tunic strange man caught fire lit horrid scene ghastly radiance. The shriek fright impotent malice emitted would- assassin proved much already shaken nerves, I fell prone upon slimy floor total faint.', 'When last senses returned, frightfully dark, mind, remembering occurred, shrank idea beholding more; yet curiosity over-mastered all. Who, I asked myself, man evil, came within castle walls? Why seek avenge death Michel Mauvais, bad curse carried long centuries since time Charles Le Sorcier? The dread years lifted shoulder, I knew I felled source danger curse; I free, I burned desire learn sinister thing haunted line centuries, made youth one long-continued nightmare. Determined upon exploration, I felt pockets flint steel, lit unused torch I me.', \"First all, new light revealed distorted blackened form mysterious stranger. The hideous eyes closed. Disliking sight, I turned away entered chamber beyond Gothic door. Here I found seemed much like alchemist's laboratory. In one corner immense pile shining yellow metal sparkled gorgeously light torch. It may gold, I pause examine it, I strangely affected I undergone. At farther end apartment opening leading one many wild ravines dark hillside forest. Filled wonder, yet realizing man obtained access chauteau, I proceeded return. I intended pass remains stranger averted face but, I approached body, I seemed hear emanating faint sound, though life yet wholly extinct. Aghast, I turned examine charred shrivelled figure floor.\", \"Then horrible eyes, blacker even seared face set, opened wide expression I unable interpret. The cracked lips tried frame words I could well understand. Once I caught name Charles Le Sorcier, I fancied words 'years' 'curse' issued twisted mouth. Still I loss gather purport disconnnected speech. At evident ignorance meaning, pitchy eyes flashed malevolently me, until, helpless I saw opponent be, I trembled I watched him.\", \"Suddenly wretch, animated last burst strength, raised piteous head damp sunken pavement. Then, I remained, paralyzed fear, found voice dying breath screamed forth words ever afterward haunted days nights. 'Fool!' shrieked, 'Can guess secret? Have brain whereby may recognize six long centuries fulfilled dreadful curse upon house? Have I told great elixir eternal life? Know secret Alchemy solved? I tell you, I! I! I! lived six hundred years maintain revenge, I Charles Le Sorcier!'\"]\n"
          ]
        }
      ]
    },
    {
      "cell_type": "markdown",
      "source": [
        "#Detect Unusual Words"
      ],
      "metadata": {
        "id": "WMXnyBal8ddD"
      }
    },
    {
      "cell_type": "code",
      "source": [
        "common_words = set([\"list\", \"of\", \"common\", \"words\", \"in\", \"your\", \"language\"])"
      ],
      "metadata": {
        "id": "_eyi6BaA74BD"
      },
      "execution_count": 11,
      "outputs": []
    },
    {
      "cell_type": "code",
      "source": [
        "def find_unusual_words(text, common_words):\n",
        "  words = text.split()\n",
        "  unusual_words = set()\n",
        "  for word in words:\n",
        "    word = word.lower()\n",
        "    if word not in common_words:\n",
        "      unusual_words.add(word)\n",
        "  return unusual_words"
      ],
      "metadata": {
        "id": "27C59h248xOR"
      },
      "execution_count": 12,
      "outputs": []
    },
    {
      "cell_type": "code",
      "source": [
        "text = \"Once upon a time in a quiet little village nestled between towering mountains and a shimmering lake, there lived a young girl named Lila. Lila was known throughout the village for her boundless curiosity and her love for exploring the woods that surrounded her home. Every day after her chores were done, she would set out with her little brown satchel, filled with snacks, a notebook, and a quill, ready to jot down whatever interesting things she might discover.One crisp autumn morning, as Lila wandered deeper into the forest than she ever had before, she stumbled upon an old, moss-covered stone. It was unlike anything she had seen—a perfect cube with strange symbols carved into its sides. Intrigued, Lila crouched down to examine it closely. The symbols seemed to glow faintly, almost as if they were alive.denly, a low rumble echoed through the trees, and the ground beneath Lila's feet began to tremble. She jumped back in alarm as the stone started to rise from the earth, hovering in mid-air. A soft light emanated from the stone, growing brighter until it enveloped Lila entirely. When the light faded, Lila found herself no longer in the familiar woods of her village, but in a strange and mystical land.The sky above her was a deep, swirling purple, dotted with stars that twinkled like diamonds. The trees were tall and silver, their leaves shimmering in the breeze. In the distance, Lila could see a grand castle, its spires reaching up to the heavens, glowing with a soft, inviting light.As she walked toward the castle, Lila noticed that the animals of this land were unlike any she had seen before. There were birds with feathers that glowed like fireflies, rabbits with fur as blue as the ocean, and deer with antlers made of crystal. Everything in this world seemed to be alive with magic.When she finally reached the castle, the massive wooden doors creaked open as if expecting her. Inside, the walls were lined with tapestries depicting epic battles, beautiful landscapes, and tales of old. At the end of the grand hall stood a tall, regal woman, her long hair flowing like liquid silver, and her eyes shimmering with wisdom.“Welcome, Lila,” the woman said, her voice echoing softly through the hall. “I am Queen Aeliana, ruler of this realm. You have been chosen by the ancient stone to embark on a quest of great importance.”Lila was taken aback. “A quest? But why me?”Queen Aeliana smiled gently. “Because you possess the heart of a true adventurer, and the courage to face the unknown. Our land is in great danger, and only someone from your world can restore the balance.”Lila’s heart pounded with excitement and fear. She had always dreamed of going on an adventure, but this was beyond anything she had ever imagined. “What must I do?” she asked, her voice trembling slightly.“The darkness has begun to spread from the Forgotten Forest, corrupting everything it touches,” explained the queen. “You must journey to the heart of the forest and find the Crystal of Light. It is the only thing powerful enough to banish the darkness.”Without hesitation, Lila agreed to the quest. The queen handed her a small, glowing orb. “This will guide you through the forest and protect you from harm. But remember, the journey will be perilous, and you must be brave.”Lila took the orb, feeling its warmth in her hands. She bowed to the queen and set off on her journey, determined to succeed. The path to the Forgotten Forest was long and winding, filled with strange creatures and hidden traps. But Lila pressed on, her courage never wavering.As she entered the forest, the trees loomed over her, their branches twisted and gnarled. The air was thick with an ominous fog, and the only light came from the orb she carried. Shadows darted through the trees, and strange whispers filled the air, but Lila stayed focused on her goal.Deeper and deeper she went, until she finally reached the heart of the forest. There, in a clearing, stood a massive tree, its trunk blackened by the darkness. At its base lay the Crystal of Light, pulsing faintly. But as Lila approached, a shadowy figure emerged from the darkness—a fearsome creature with glowing red eyes and claws as sharp as daggers.“This is the end of your journey, little girl,” the creature hissed, its voice dripping with malice. “The darkness will consume everything.”But Lila, fueled by the courage Queen Aeliana had spoken of, held the orb high. It glowed brighter and brighter until it was blinding. The creature recoiled, screeching in pain, and with a final burst of light, the darkness was banished.The forest began to heal, the twisted trees straightening, and the fog lifting. Lila approached the Crystal of Light, now shining brightly. She picked it up, feeling its warmth flow through her. She knew her quest was complete.With the crystal in hand, Lila returned to the castle. Queen Aeliana greeted her with pride and gratitude. “You have saved our land, brave Lila. You will always be remembered as a hero.”Lila smiled, her heart swelling with pride. But she knew it was time to return home. The queen waved her hand, and the glowing stone reappeared before Lila. It transported her back to her village, where the familiar woods welcomed her as if she had never left.But Lila knew that she had changed. She had faced the unknown and emerged victorious. And though she never spoke of her adventure, the villagers noticed a new light in her eyes—a light that would guide her through all the adventures that lay ahead.And so, Lila continued to explore the woods, always hoping for another magical journey, knowing that she was destined for great things.\"\n",
        "\n",
        "unusual_words = find_unusual_words(text, common_words)\n",
        "\n",
        "print(\"Unusual words in the text:\")\n",
        "for word in unusual_words:\n",
        "  print(word)"
      ],
      "metadata": {
        "id": "6qVF4HNi9aM3",
        "outputId": "6ce3667d-fff4-4831-b3a6-fe6a3492aa4f",
        "colab": {
          "base_uri": "https://localhost:8080/"
        }
      },
      "execution_count": 13,
      "outputs": [
        {
          "output_type": "stream",
          "name": "stdout",
          "text": [
            "Unusual words in the text:\n",
            "woods,\n",
            "swirling\n",
            "off\n",
            "sides.\n",
            "noticed\n",
            "emerged\n",
            "land,\n",
            "trunk\n",
            "crystal\n",
            "gratitude.\n",
            "nestled\n",
            "started\n",
            "burst\n",
            "where\n",
            "ready\n",
            "warmth\n",
            "autumn\n",
            "back\n",
            "returned\n",
            "recoiled,\n",
            "imagined.\n",
            "darkness—a\n",
            "rise\n",
            "stumbled\n",
            "intrigued,\n",
            "pulsing\n",
            "lila\n",
            "for\n",
            "interesting\n",
            "air,\n",
            "explore\n",
            "after\n",
            "be\n",
            "“you\n",
            "young\n",
            "queen\n",
            "familiar\n",
            "corrupting\n",
            "twisted\n",
            "trembling\n",
            "adventures\n",
            "changed.\n",
            "someone\n",
            "am\n",
            "pride\n",
            "will\n",
            "going\n",
            "reappeared\n",
            "began\n",
            "birds\n",
            "made\n",
            "up,\n",
            "an\n",
            "ancient\n",
            "path\n",
            "wandered\n",
            "closely.\n",
            "could\n",
            "glowing\n",
            "heavens,\n",
            "crisp\n",
            "stood\n",
            "might\n",
            "shimmering\n",
            "excitement\n",
            "why\n",
            "growing\n",
            "consume\n",
            "restore\n",
            "feeling\n",
            "chores\n",
            "creaked\n",
            "aeliana,\n",
            "its\n",
            "before,\n",
            "now\n",
            "named\n",
            "hair\n",
            "old.\n",
            "brown\n",
            "“i\n",
            "screeching\n",
            "do?”\n",
            "gnarled.\n",
            "took\n",
            "when\n",
            "orb\n",
            "perilous,\n",
            "carried.\n",
            "quill,\n",
            "silver,\n",
            "her,\n",
            "notebook,\n",
            "victorious.\n",
            "begun\n",
            "beautiful\n",
            "remembered\n",
            "long\n",
            "alarm\n",
            "battles,\n",
            "jumped\n",
            "strange\n",
            "open\n",
            "our\n",
            "red\n",
            "small,\n",
            "everything\n",
            "soft\n",
            "her\n",
            "creature\n",
            "massive\n",
            "shining\n",
            "quiet\n",
            "lila's\n",
            "leaves\n",
            "lila,”\n",
            "journey\n",
            "hissed,\n",
            "claws\n",
            "pressed\n",
            "aeliana\n",
            "diamonds.\n",
            "handed\n",
            "final\n",
            "quest?\n",
            "find\n",
            "any\n",
            "fur\n",
            "fireflies,\n",
            "me?”queen\n",
            "ever\n",
            "through\n",
            "and\n",
            "tremble.\n",
            "determined\n",
            "touches,”\n",
            "lined\n",
            "hall.\n",
            "stone\n",
            "i\n",
            "ominous\n",
            "only\n",
            "twinkled\n",
            "before\n",
            "darkness.”without\n",
            "as\n",
            "pounded\n",
            "filled\n",
            "day\n",
            "rabbits\n",
            "castle,\n",
            "flow\n",
            "entirely.\n",
            "brighter\n",
            "pride.\n",
            "a\n",
            "with\n",
            "see\n",
            "moss-covered\n",
            "stone.\n",
            "sky\n",
            "grand\n",
            "walls\n",
            "complete.with\n",
            "her.\n",
            "flowing\n",
            "deer\n",
            "dripping\n",
            "to\n",
            "knowing\n",
            "courage\n",
            "carved\n",
            "every\n",
            "fog,\n",
            "possess\n",
            "dreamed\n",
            "toward\n",
            "tall,\n",
            "love\n",
            "this\n",
            "it\n",
            "rumble\n",
            "slightly.“the\n",
            "heal,\n",
            "seen\n",
            "land\n",
            "explained\n",
            "beyond\n",
            "tall\n",
            "goal.deeper\n",
            "faintly,\n",
            "hovering\n",
            "been\n",
            "deep,\n",
            "found\n",
            "emanated\n",
            "winding,\n",
            "daggers.“this\n",
            "trees,\n",
            "unknown.\n",
            "“what\n",
            "hero.”lila\n",
            "have\n",
            "echoed\n",
            "voice\n",
            "their\n",
            "wisdom.“welcome,\n",
            "everything.”but\n",
            "mystical\n",
            "shadows\n",
            "pain,\n",
            "like\n",
            "banish\n",
            "creatures\n",
            "“because\n",
            "things\n",
            "glow\n",
            "figure\n",
            "lake,\n",
            "lived\n",
            "down\n",
            "that\n",
            "light,\n",
            "thick\n",
            "there,\n",
            "hand,\n",
            "from\n",
            "remember,\n",
            "picked\n",
            "knew\n",
            "asked,\n",
            "trees\n",
            "beneath\n",
            "quest.\n",
            "hesitation,\n",
            "at\n",
            "orb.\n",
            "depicting\n",
            "held\n",
            "between\n",
            "powerful\n",
            "brave\n",
            "taken\n",
            "importance.”lila\n",
            "walked\n",
            "throughout\n",
            "tapestries\n",
            "return\n",
            "no\n",
            "cube\n",
            "seemed\n",
            "village,\n",
            "another\n",
            "queen.\n",
            "swelling\n",
            "straightening,\n",
            "gently.\n",
            "snacks,\n",
            "epic\n",
            "almost\n",
            "is\n",
            "brightly.\n",
            "reaching\n",
            "anything\n",
            "fueled\n",
            "darted\n",
            "end\n",
            "blue\n",
            "discover.one\n",
            "magic.when\n",
            "exploring\n",
            "mountains\n",
            "heart\n",
            "thing\n",
            "over\n",
            "shadowy\n",
            "came\n",
            "hidden\n",
            "glowed\n",
            "little\n",
            "saved\n",
            "doors\n",
            "orb,\n",
            "landscapes,\n",
            "embark\n",
            "spoken\n",
            "once\n",
            "enough\n",
            "darkness\n",
            "hall\n",
            "morning,\n",
            "true\n",
            "had\n",
            "boundless\n",
            "soft,\n",
            "upon\n",
            "ruler\n",
            "time\n",
            "blackened\n",
            "danger,\n",
            "reached\n",
            "echoing\n",
            "out\n",
            "girl\n",
            "stars\n",
            "castle.\n",
            "chosen\n",
            "though\n",
            "approached\n",
            "were\n",
            "spires\n",
            "before.\n",
            "forgotten\n",
            "hands.\n",
            "entered\n",
            "lila.\n",
            "inviting\n",
            "alive\n",
            "realm.\n",
            "set\n",
            "aback.\n",
            "stone,\n",
            "light\n",
            "blinding.\n",
            "wavering.as\n",
            "wooden\n",
            "so,\n",
            "breeze.\n",
            "on,\n",
            "has\n",
            "fear.\n",
            "would\n",
            "done,\n",
            "crouched\n",
            "dotted\n",
            "went,\n",
            "forest.\n",
            "waved\n",
            "can\n",
            "adventurer,\n",
            "lila,\n",
            "bowed\n",
            "woman\n",
            "you\n",
            "great\n",
            "antlers\n",
            "than\n",
            "softly\n",
            "land.the\n",
            "must\n",
            "balance.”lila’s\n",
            "into\n",
            "regal\n",
            "harm.\n",
            "approached,\n",
            "ground\n",
            "faded,\n",
            "distance,\n",
            "tales\n",
            "brave.”lila\n",
            "always\n",
            "hoping\n",
            "spoke\n",
            "magical\n",
            "air\n",
            "eyes\n",
            "succeed.\n",
            "destined\n",
            "the\n",
            "forest,\n",
            "until\n",
            "journey,\n",
            "faintly.\n",
            "quest\n",
            "she\n",
            "light.as\n",
            "sharp\n",
            "spread\n",
            "face\n",
            "tree,\n",
            "was\n",
            "new\n",
            "banished.the\n",
            "high.\n",
            "whatever\n",
            "examine\n",
            "woman,\n",
            "fearsome\n",
            "adventure,\n",
            "enveloped\n",
            "world\n",
            "crystal.\n",
            "up\n",
            "longer\n",
            "feathers\n",
            "traps.\n",
            "but\n",
            "there\n",
            "village\n",
            "lifting.\n",
            "protect\n",
            "of,\n",
            "faced\n",
            "villagers\n",
            "lay\n",
            "eyes—a\n",
            "home.\n",
            "base\n",
            "seen—a\n",
            "“a\n",
            "things.\n",
            "malice.\n",
            "forest\n",
            "said,\n",
            "loomed\n",
            "ocean,\n",
            "low\n",
            "left.but\n",
            "finally\n",
            "stayed\n",
            "unlike\n",
            "inside,\n",
            "light.\n",
            "old,\n",
            "on\n",
            "feet\n",
            "smiled\n",
            "above\n",
            "never\n",
            "perfect\n",
            "“the\n",
            "continued\n",
            "transported\n",
            "jot\n",
            "satchel,\n",
            "alive.denly,\n",
            "agreed\n",
            "clearing,\n",
            "smiled,\n",
            "welcomed\n",
            "fog\n",
            "towering\n",
            "liquid\n",
            "“this\n",
            "ahead.and\n",
            "girl,”\n",
            "focused\n",
            "deeper\n",
            "symbols\n",
            "they\n",
            "greeted\n",
            "if\n",
            "purple,\n",
            "animals\n",
            "expecting\n",
            "herself\n",
            "all\n",
            "guide\n",
            "curiosity\n",
            "branches\n",
            "unknown\n",
            "earth,\n",
            "surrounded\n",
            "woods\n",
            "darkness.\n",
            "known\n",
            "by\n",
            "whispers\n",
            "mid-air.\n"
          ]
        }
      ]
    },
    {
      "cell_type": "code",
      "source": [],
      "metadata": {
        "id": "6WqA3c2wBnKZ"
      },
      "execution_count": 13,
      "outputs": []
    }
  ]
}